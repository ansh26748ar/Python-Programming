{
 "cells": [
  {
   "cell_type": "markdown",
   "id": "5226a25a",
   "metadata": {},
   "source": [
    "Customize Exception Handling"
   ]
  },
  {
   "cell_type": "code",
   "execution_count": 12,
   "id": "420296d3",
   "metadata": {},
   "outputs": [],
   "source": [
    "class error(Exception):\n",
    "    pass\n",
    "\n",
    "class DOBexception(error):\n",
    "    pass"
   ]
  },
  {
   "cell_type": "code",
   "execution_count": 14,
   "id": "5bed548c",
   "metadata": {},
   "outputs": [
    {
     "name": "stdout",
     "output_type": "stream",
     "text": [
      "You are valid\n"
     ]
    }
   ],
   "source": [
    "year = int(input(\"enter the year\"))\n",
    "\n",
    "age = 2025 - year\n",
    "\n",
    "try:\n",
    "    if age >= 20 and age <= 30:\n",
    "        print(\"You are valid\")\n",
    "    else:\n",
    "        raise DOBexception\n",
    "        \n",
    "except DOBexception:\n",
    "    print(\"Your age is not valid, plaese enter age greater than 20 and less than 30\")\n",
    "    "
   ]
  },
  {
   "cell_type": "code",
   "execution_count": null,
   "id": "4f5bbe51",
   "metadata": {},
   "outputs": [],
   "source": []
  },
  {
   "cell_type": "code",
   "execution_count": null,
   "id": "a2125fb1",
   "metadata": {},
   "outputs": [],
   "source": []
  }
 ],
 "metadata": {
  "kernelspec": {
   "display_name": "base",
   "language": "python",
   "name": "python3"
  },
  "language_info": {
   "codemirror_mode": {
    "name": "ipython",
    "version": 3
   },
   "file_extension": ".py",
   "mimetype": "text/x-python",
   "name": "python",
   "nbconvert_exporter": "python",
   "pygments_lexer": "ipython3",
   "version": "3.13.5"
  }
 },
 "nbformat": 4,
 "nbformat_minor": 5
}
