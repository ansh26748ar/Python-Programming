{
 "cells": [
  {
   "cell_type": "markdown",
   "id": "0d1ad30d",
   "metadata": {},
   "source": [
    "**Inheritance**\n",
    "\n",
    "Inheritance is a mechanism in which one class acquires the properties and methods of another class. It allows us to create a hierarchical relationship between classes.\n",
    "\n",
    "parent/child || Superclass/subclass || base/derived\n",
    "\n",
    "Types of Inheritance:\n",
    "1. Single Inheritance: In this case, a child class inherits only one parent class.\n",
    "2. Multiple Inheritance: In this case, a child class inherits multiple parent classes.\n",
    "3. Multilevel Inheritance: In this case, a child class inherits from a parent class, which in turn inherits from another parent class.\n",
    "4. Hierarchical Inheritance: In this case, a child class inherits from multiple parent classes.\n",
    "5. Hybrid Inheritance: This is a combination of multiple inheritance and single inheritance.\n",
    "\n",
    "In Python, we can use the `class` keyword to define a class. We can also use the `super()` function to access the methods and attributes of the parent class."
   ]
  },
  {
   "cell_type": "code",
   "execution_count": 2,
   "id": "e3638919",
   "metadata": {},
   "outputs": [
    {
     "name": "stdout",
     "output_type": "stream",
     "text": [
      "The person will drive the petrol car\n"
     ]
    }
   ],
   "source": [
    "#Inheritence example:\n",
    "class car():\n",
    "    def __init__(self, windows, doors, enginetype):\n",
    "        self.windows = windows\n",
    "        self.doors = doors\n",
    "        self.enginetype = enginetype\n",
    "\n",
    "    def drive(self):\n",
    "        print(f\"The person will drive the {self.enginetype} car\")\n",
    "\n",
    "car1 = car(4,6,\"petrol\")\n",
    "car1.drive()\n"
   ]
  },
  {
   "cell_type": "code",
   "execution_count": 6,
   "id": "9e209819",
   "metadata": {},
   "outputs": [],
   "source": [
    "#Single inheritence example: tesla inherits from car\n",
    "class Tesla(car):\n",
    "    def __init__(self, windows, doors, enginetype, is_selfDriving):\n",
    "        super().__init__(windows,doors,enginetype)\n",
    "        self.is_selfDriving = is_selfDriving\n",
    "    \n",
    "    def selfDriving(self):\n",
    "        print(f\"Tesla supports {self.is_selfDriving}\")\n"
   ]
  },
  {
   "cell_type": "code",
   "execution_count": 7,
   "id": "8889555a",
   "metadata": {},
   "outputs": [
    {
     "name": "stdout",
     "output_type": "stream",
     "text": [
      "Tesla supports True\n"
     ]
    }
   ],
   "source": [
    "tesla1 = Tesla(4,2,\"EV\",True)\n",
    "tesla1.selfDriving()"
   ]
  },
  {
   "cell_type": "code",
   "execution_count": 11,
   "id": "569a7a68",
   "metadata": {},
   "outputs": [
    {
     "name": "stdout",
     "output_type": "stream",
     "text": [
      "tom says woof!\n"
     ]
    }
   ],
   "source": [
    "#Multiple inheritence example: Animal, pet -> Dog\n",
    "#base class 1:\n",
    "class Animal():\n",
    "    def __init__(self, name):\n",
    "        self.name = name\n",
    "\n",
    "    def speak(self):\n",
    "        print(\"Subclass must implement this method\")\n",
    "\n",
    "#base class 2:\n",
    "class Pet():\n",
    "    def __init__(self, owner):\n",
    "        self.owner = owner\n",
    "\n",
    "#derived class: \n",
    "class Dog(Animal, Pet):\n",
    "    def __init__(self,name,owner):\n",
    "        Animal.__init__(self,name)\n",
    "        Pet.__init__(self,owner)\n",
    "\n",
    "    def speak(self):\n",
    "        print(f\"{self.name} says woof!\") \n",
    "Dog1 = Dog(\"tom\",\"Anshul\")\n",
    "Dog1.speak() ## Dog's itself speak fxn will ne called as it is directly called from Dog class not from Animal class\n"
   ]
  },
  {
   "cell_type": "code",
   "execution_count": null,
   "id": "0d0a9901",
   "metadata": {},
   "outputs": [],
   "source": []
  }
 ],
 "metadata": {
  "kernelspec": {
   "display_name": "base",
   "language": "python",
   "name": "python3"
  },
  "language_info": {
   "codemirror_mode": {
    "name": "ipython",
    "version": 3
   },
   "file_extension": ".py",
   "mimetype": "text/x-python",
   "name": "python",
   "nbconvert_exporter": "python",
   "pygments_lexer": "ipython3",
   "version": "3.13.5"
  }
 },
 "nbformat": 4,
 "nbformat_minor": 5
}
