{
 "cells": [
  {
   "cell_type": "markdown",
   "id": "f1863d66",
   "metadata": {},
   "source": [
    "## Encapsulation:\n",
    "- Encapsulation is the bundling of data and methods into a single unit called an object.\n",
    "- It helps in maintaining the data integrity and prevents unauthorized modifications.\n",
    "- The data and methods are grouped together in a class.\n",
    "- restricts direct access to instance variables from outside the class."
   ]
  },
  {
   "cell_type": "code",
   "execution_count": 6,
   "id": "1aa56d51",
   "metadata": {},
   "outputs": [
    {
     "name": "stdout",
     "output_type": "stream",
     "text": [
      "Anshul\n"
     ]
    }
   ],
   "source": [
    "#encapsulation with getter and setter methods\n",
    "#public, private and protected access modifiers\n",
    "class Person:\n",
    "    def __init__(self,name,age):\n",
    "        self.name = name  #public variable\n",
    "        self.age = age    #public variable\n",
    "    def getter(self, name, age):    \n",
    "        print(\"Name:\", self.name)\n",
    "        print(\"Age:\", self.age)\n",
    "\n",
    "    def setter(self, name, age):\n",
    "       self.name = name\n",
    "       self.age = age   \n",
    "       print(\"Name set to:\", self.name)\n",
    "       print(\"Age set to:\", self.age) \n",
    "        \n",
    "    \n",
    "Person1 = Person(\"Anshul\", 20)\n",
    "print(Person1.name)\n"
   ]
  },
  {
   "cell_type": "code",
   "execution_count": 7,
   "id": "efb7b500",
   "metadata": {},
   "outputs": [
    {
     "data": {
      "text/plain": [
       "['__class__',\n",
       " '__delattr__',\n",
       " '__dict__',\n",
       " '__dir__',\n",
       " '__doc__',\n",
       " '__eq__',\n",
       " '__firstlineno__',\n",
       " '__format__',\n",
       " '__ge__',\n",
       " '__getattribute__',\n",
       " '__getstate__',\n",
       " '__gt__',\n",
       " '__hash__',\n",
       " '__init__',\n",
       " '__init_subclass__',\n",
       " '__le__',\n",
       " '__lt__',\n",
       " '__module__',\n",
       " '__ne__',\n",
       " '__new__',\n",
       " '__reduce__',\n",
       " '__reduce_ex__',\n",
       " '__repr__',\n",
       " '__setattr__',\n",
       " '__sizeof__',\n",
       " '__static_attributes__',\n",
       " '__str__',\n",
       " '__subclasshook__',\n",
       " '__weakref__',\n",
       " 'age',\n",
       " 'getter',\n",
       " 'name',\n",
       " 'setter']"
      ]
     },
     "execution_count": 7,
     "metadata": {},
     "output_type": "execute_result"
    }
   ],
   "source": [
    "dir(Person1)"
   ]
  },
  {
   "cell_type": "code",
   "execution_count": 16,
   "id": "21f36413",
   "metadata": {},
   "outputs": [
    {
     "name": "stdout",
     "output_type": "stream",
     "text": [
      "Female\n"
     ]
    }
   ],
   "source": [
    "class Person2:\n",
    "    def __init__(self,name,age, gender):\n",
    "        self.__name = name  #private variable\n",
    "        self.__age = age    #private variable\n",
    "        self.gender = gender    #public variable\n",
    "\n",
    "person = Person2(\"Anshul\", 23, \"Female\")\n",
    "# print(person.__name) #cannot access private variable directly\n",
    "print(person.gender)"
   ]
  },
  {
   "cell_type": "code",
   "execution_count": 17,
   "id": "5a7ba166",
   "metadata": {},
   "outputs": [
    {
     "data": {
      "text/plain": [
       "['_Person2__age',\n",
       " '_Person2__name',\n",
       " '__class__',\n",
       " '__delattr__',\n",
       " '__dict__',\n",
       " '__dir__',\n",
       " '__doc__',\n",
       " '__eq__',\n",
       " '__firstlineno__',\n",
       " '__format__',\n",
       " '__ge__',\n",
       " '__getattribute__',\n",
       " '__getstate__',\n",
       " '__gt__',\n",
       " '__hash__',\n",
       " '__init__',\n",
       " '__init_subclass__',\n",
       " '__le__',\n",
       " '__lt__',\n",
       " '__module__',\n",
       " '__ne__',\n",
       " '__new__',\n",
       " '__reduce__',\n",
       " '__reduce_ex__',\n",
       " '__repr__',\n",
       " '__setattr__',\n",
       " '__sizeof__',\n",
       " '__static_attributes__',\n",
       " '__str__',\n",
       " '__subclasshook__',\n",
       " '__weakref__',\n",
       " 'gender']"
      ]
     },
     "execution_count": 17,
     "metadata": {},
     "output_type": "execute_result"
    }
   ],
   "source": [
    "dir(person)"
   ]
  },
  {
   "cell_type": "code",
   "execution_count": 21,
   "id": "73bd30d0",
   "metadata": {},
   "outputs": [
    {
     "name": "stdout",
     "output_type": "stream",
     "text": [
      "23\n"
     ]
    }
   ],
   "source": [
    "# print(person.__name) #cannot access private variable directly\n",
    "print(person._Person2__age) #accessing private variable using name mangling"
   ]
  },
  {
   "cell_type": "markdown",
   "id": "5964dd62",
   "metadata": {},
   "source": [
    "# Access modifiers:\n",
    "- Public variable: A variable that starts with no underscore. It's accessible from outside the class.\n",
    "\n",
    "- Private variable: A variable that starts with double underscore (__). It's used for internal purposes and can't be accessed directly from outside the class.\n",
    "\n",
    "- Protected variable: A variable that starts with double underscore (__) and ends with single underscore (_). It's similar to private variable but can be accessed from subclasses."
   ]
  },
  {
   "cell_type": "code",
   "execution_count": 26,
   "id": "9f6ce1d3",
   "metadata": {},
   "outputs": [
    {
     "name": "stdout",
     "output_type": "stream",
     "text": [
      "Anshul\n"
     ]
    }
   ],
   "source": [
    "class member:\n",
    "    def __init__(self, name, age, gender): #constructor\n",
    "        #access modifiers\n",
    "        self._name = name  #protected variable\n",
    "        self._age = age  #protected variable\n",
    "        self.gender = gender  #public variable\n",
    "\n",
    "class employee(member):\n",
    "    def __init__(self, name, age, gender):\n",
    "        super().__init__(name, age, gender) #super() method is used to call the constructor of the parent class\n",
    "    \n",
    "employee1 = employee(\"Anshul\", 23, \"Female\")\n",
    "print(employee1._name)  #accessing protected variable from subclass"
   ]
  },
  {
   "cell_type": "code",
   "execution_count": 29,
   "id": "5c8141f2",
   "metadata": {},
   "outputs": [
    {
     "name": "stdout",
     "output_type": "stream",
     "text": [
      "Tommy\n",
      "5\n",
      "Buddy\n",
      "Age cannot be negative\n",
      "5\n"
     ]
    }
   ],
   "source": [
    "class dog:\n",
    "    def __init__(self,name, age):\n",
    "        self.__name = name  #private variable\n",
    "        self.__age = age    #private variable\n",
    "\n",
    "    def get_name(self):\n",
    "        return self.__name\n",
    "    \n",
    "    def set_name(self, name):\n",
    "        self.__name = name\n",
    "\n",
    "    def get_age(self):\n",
    "        return self.__age\n",
    "    \n",
    "    def set_age(self, age):\n",
    "        if age < 0:\n",
    "            print(\"Age cannot be negative\")\n",
    "        else:\n",
    "            self.__age = age\n",
    "\n",
    "dog1 = dog(\"Tommy\", 5)\n",
    "print(dog1.get_name())\n",
    "print(dog1.get_age())\n",
    "\n",
    "dog1.set_name(\"Buddy\")\n",
    "print(dog1.get_name())\n",
    "\n",
    "dog1.set_age(-3)  #trying to set negative age\n",
    "print(dog1.get_age())\n",
    "\n"
   ]
  },
  {
   "cell_type": "code",
   "execution_count": null,
   "id": "a72ed2f3",
   "metadata": {},
   "outputs": [],
   "source": []
  }
 ],
 "metadata": {
  "kernelspec": {
   "display_name": "base",
   "language": "python",
   "name": "python3"
  },
  "language_info": {
   "codemirror_mode": {
    "name": "ipython",
    "version": 3
   },
   "file_extension": ".py",
   "mimetype": "text/x-python",
   "name": "python",
   "nbconvert_exporter": "python",
   "pygments_lexer": "ipython3",
   "version": "3.13.5"
  }
 },
 "nbformat": 4,
 "nbformat_minor": 5
}
