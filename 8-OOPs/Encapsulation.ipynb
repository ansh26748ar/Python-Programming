{
 "cells": [
  {
   "cell_type": "code",
   "execution_count": null,
   "id": "fcdb1ac1",
   "metadata": {},
   "outputs": [],
   "source": [
    "Encapsulation "
   ]
  }
 ],
 "metadata": {
  "language_info": {
   "name": "python"
  }
 },
 "nbformat": 4,
 "nbformat_minor": 5
}
