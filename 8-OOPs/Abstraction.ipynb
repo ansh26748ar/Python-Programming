{
 "cells": [
  {
   "cell_type": "markdown",
   "id": "6135d50b",
   "metadata": {},
   "source": [
    "#### Abstraction : \n",
    "it is about hiding the internal details and showing only the necessary information to the user. Thi shelps in reducing complexity and making the code more understandable.\n",
    "\n"
   ]
  },
  {
   "cell_type": "code",
   "execution_count": null,
   "id": "dbc14f0a",
   "metadata": {},
   "outputs": [
    {
     "name": "stdout",
     "output_type": "stream",
     "text": [
      "Car engine started\n",
      "Driving the car\n"
     ]
    }
   ],
   "source": [
    "from abc import ABC, abstractmethod\n",
    "\n",
    "\n",
    "# Abstract base class\n",
    "class Vehicle(ABC): #ABC is a module that provides tools for defining abstract base classes\n",
    "    def drive(self):\n",
    "        return \"Driving the vehicle\"\n",
    "    @abstractmethod\n",
    "    def start_engine(self):\n",
    "        pass  # no definition here, just a placeholder ; \n",
    "                #it is used to make the class abstract\n",
    "                # and any class that inherits from it must implement this method\n",
    "\n",
    "# derived class 1\n",
    "class Car(Vehicle):\n",
    "    def start_engine(self):\n",
    "        return \"Car engine started\"\n",
    "    # def drive(self):\n",
    "    #     return \"Driving the car\"\n",
    "\n",
    "def operate_vehicle(Vehicle):\n",
    "    print(Vehicle.start_engine()) # Output: Car engine started \n",
    "    # because Car implements start_engine as the vehicle.start_engine fucntion is called by Car object\n",
    "    # but the Vehicle class does not have a concrete implementation\n",
    "    # Vehicle is an abstract class, so it cannot be instantiated directly.\n",
    "    print(Vehicle.drive())\n",
    "\n",
    "# veh = Vehicle()  # this will raise an error because Vehicle is an abstract class\n",
    "car = Car()\n",
    "operate_vehicle(car)  # Output: Car engine started, Driving the vehicle"
   ]
  },
  {
   "cell_type": "code",
   "execution_count": null,
   "id": "c1fb8dc1",
   "metadata": {},
   "outputs": [],
   "source": []
  }
 ],
 "metadata": {
  "kernelspec": {
   "display_name": "base",
   "language": "python",
   "name": "python3"
  },
  "language_info": {
   "codemirror_mode": {
    "name": "ipython",
    "version": 3
   },
   "file_extension": ".py",
   "mimetype": "text/x-python",
   "name": "python",
   "nbconvert_exporter": "python",
   "pygments_lexer": "ipython3",
   "version": "3.13.5"
  }
 },
 "nbformat": 4,
 "nbformat_minor": 5
}
