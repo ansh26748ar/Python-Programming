{
 "cells": [
  {
   "cell_type": "markdown",
   "id": "5bec7c63",
   "metadata": {},
   "source": [
    "**Polymorphism:**\n",
    "Polymorphism is a concept in programming where objects of different classes can be treated as objects of a common superclass.It provides a way to perform a single action in different ways based on the object's type.\n",
    "\n",
    "Runtime Polymorphism: -> function overloading, method overriding\n",
    "Compile-time Polymorphism: operator overloading\n",
    "\n",
    "\n",
    "\n"
   ]
  },
  {
   "cell_type": "markdown",
   "id": "12094517",
   "metadata": {},
   "source": [
    "Method Overriding: -> The ability of a subclass to provide a specific implementation of a method that is already defined in its superclass."
   ]
  },
  {
   "cell_type": "code",
   "execution_count": 5,
   "id": "ebb187fd",
   "metadata": {},
   "outputs": [
    {
     "name": "stdout",
     "output_type": "stream",
     "text": [
      "Dog barks\n",
      "Cat meows\n"
     ]
    },
    {
     "data": {
      "text/plain": [
       "'Cat meows'"
      ]
     },
     "execution_count": 5,
     "metadata": {},
     "output_type": "execute_result"
    }
   ],
   "source": [
    "#base class:\n",
    "class animal:\n",
    "    def sound(self):\n",
    "        return \"Animal makes a sound\"\n",
    "\n",
    "class dog(animal):\n",
    "    def sound(self):\n",
    "        return \"Dog barks\"\n",
    "\n",
    "class cat(animal):\n",
    "    def sound(self):\n",
    "        return \"Cat meows\"\n",
    "#function that demonstrates polymorphism\n",
    "# This function takes an animal object and calls its sound method\n",
    "def animal_sound(animal):\n",
    "    return animal.sound()\n",
    "\n",
    "dog1 = dog()\n",
    "print(dog1.sound())  # Output: Dog barks\n",
    "cat1 = cat()\n",
    "print(cat1.sound())  # Output: Cat meows\n",
    "animal_sound(dog1)  # Output: Dog barks\n",
    "animal_sound(cat1)  # Output: Cat meows\n"
   ]
  },
  {
   "cell_type": "code",
   "execution_count": 7,
   "id": "97970bf6",
   "metadata": {},
   "outputs": [
    {
     "name": "stdout",
     "output_type": "stream",
     "text": [
      "The area of the shape is: 50\n",
      "The area of the shape is: 153.86\n"
     ]
    }
   ],
   "source": [
    "### Polymorphism with functions and methods\n",
    "#base class:\n",
    "class shape:\n",
    "    def area(self):\n",
    "        return \"The area of the figure\"\n",
    "    \n",
    "#derived class 1:\n",
    "class rectangle(shape):\n",
    "    def __init__(self,length, width):\n",
    "        self.length = length\n",
    "        self.width = width\n",
    "\n",
    "    def area(self):\n",
    "        return self.length * self.width\n",
    "    \n",
    "class circle(shape):\n",
    "    def __init__(self, radius):\n",
    "        self.radius = radius\n",
    "\n",
    "    def area(self):\n",
    "        return 3.14 * self.radius * self.radius\n",
    "    \n",
    "def print_area(shape):\n",
    "    print(f\"The area of the shape is: {shape.area()}\")\n",
    "\n",
    "rectangle1 = rectangle(5, 10)\n",
    "circle1 = circle(7)\n",
    "print_area(rectangle1)  # Output: The area of the shape is: 50\n",
    "print_area(circle1)  # Output: The area of the shape is: 153.93804002589985"
   ]
  },
  {
   "cell_type": "markdown",
   "id": "30842e1c",
   "metadata": {},
   "source": [
    "#### Polymorphism with abstract base class\n",
    "abstract base class (ABCs) are classes that cannot be instantiated directly, but can be subclassed. They provide a way to define common behavior for a group of related classes.\n",
    "\n"
   ]
  },
  {
   "cell_type": "code",
   "execution_count": 9,
   "id": "4f0181f8",
   "metadata": {},
   "outputs": [
    {
     "name": "stdout",
     "output_type": "stream",
     "text": [
      "Car engine started\n",
      "Motorcycle engine started\n"
     ]
    }
   ],
   "source": [
    "from abc import ABC, abstractmethod\n",
    "# Abstract base class\n",
    "class vehicle(ABC):\n",
    "    @abstractmethod # Abstract method that must be implemented by derived classes\n",
    "    def start_engine(self):\n",
    "        pass # no definition here, just a placeholder\n",
    "\n",
    "#derived class 1\n",
    "class car(vehicle):\n",
    "    def start_engine(self):\n",
    "        return \"Car engine started\"\n",
    "    \n",
    "#derived class 2\n",
    "class motorcycle(vehicle):\n",
    "    def start_engine(self):\n",
    "        return \"Motorcycle engine started\"\n",
    "    \n",
    "car1 = car()\n",
    "print(car1.start_engine())  # Output: Car engine started\n",
    "motorcycle1 = motorcycle()\n",
    "print(motorcycle1.start_engine())  # Output: Motorcycle engine started"
   ]
  }
 ],
 "metadata": {
  "kernelspec": {
   "display_name": "base",
   "language": "python",
   "name": "python3"
  },
  "language_info": {
   "codemirror_mode": {
    "name": "ipython",
    "version": 3
   },
   "file_extension": ".py",
   "mimetype": "text/x-python",
   "name": "python",
   "nbconvert_exporter": "python",
   "pygments_lexer": "ipython3",
   "version": "3.13.5"
  }
 },
 "nbformat": 4,
 "nbformat_minor": 5
}
