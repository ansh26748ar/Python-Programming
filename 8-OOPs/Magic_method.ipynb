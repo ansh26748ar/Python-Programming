{
 "cells": [
  {
   "cell_type": "markdown",
   "id": "8f853d51",
   "metadata": {},
   "source": [
    "### Magic methods:\n",
    "\n",
    "magic methods in python are also called dunder (double underscore) methods as they start and end with double underscores. They are called automatically when certain operations are performed on objects. These emthods enable you to define custom behavior for your objects for built-in operations, such as arithmetic operations, comparisons, and string formatting. \n",
    "\n",
    "Here are some common magic methods:\n",
    "\n",
    "- `__init__(self, ...)`: initialize the object with data \n",
    "- `__str__(self)`: return a string representation of the object\n",
    "- `__repr__(self)`: return a string representation of the object that can be used to recreate the object\n",
    "- `__len__(self)`: return the number of items in the object\n",
    "- `__getitem__(self, index)`: return the item at the given index\n",
    "- `__setitem__(self, index, value)`: set the item at the given index\n",
    "- `__delitem__(self, index)`: delete the item at the given index\n",
    "- `__iter__(self)`: return an iterator for the object\n"
   ]
  },
  {
   "cell_type": "code",
   "execution_count": 1,
   "id": "97d3e8be",
   "metadata": {},
   "outputs": [
    {
     "data": {
      "text/plain": [
       "['__class__',\n",
       " '__delattr__',\n",
       " '__dict__',\n",
       " '__dir__',\n",
       " '__doc__',\n",
       " '__eq__',\n",
       " '__firstlineno__',\n",
       " '__format__',\n",
       " '__ge__',\n",
       " '__getattribute__',\n",
       " '__getstate__',\n",
       " '__gt__',\n",
       " '__hash__',\n",
       " '__init__',\n",
       " '__init_subclass__',\n",
       " '__le__',\n",
       " '__lt__',\n",
       " '__module__',\n",
       " '__ne__',\n",
       " '__new__',\n",
       " '__reduce__',\n",
       " '__reduce_ex__',\n",
       " '__repr__',\n",
       " '__setattr__',\n",
       " '__sizeof__',\n",
       " '__static_attributes__',\n",
       " '__str__',\n",
       " '__subclasshook__',\n",
       " '__weakref__']"
      ]
     },
     "execution_count": 1,
     "metadata": {},
     "output_type": "execute_result"
    }
   ],
   "source": [
    "class Person:\n",
    "    pass\n",
    "\n",
    "obj = Person()\n",
    "\n",
    "dir(obj)\n"
   ]
  },
  {
   "cell_type": "code",
   "execution_count": 2,
   "id": "1d5f1590",
   "metadata": {},
   "outputs": [
    {
     "name": "stdout",
     "output_type": "stream",
     "text": [
      "<__main__.Person object at 0x000001773408FB60>\n"
     ]
    }
   ],
   "source": [
    "print(obj)"
   ]
  },
  {
   "cell_type": "code",
   "execution_count": 6,
   "id": "1d33e772",
   "metadata": {},
   "outputs": [
    {
     "name": "stdout",
     "output_type": "stream",
     "text": [
      "<__main__.person object at 0x00000177343C0050>\n"
     ]
    }
   ],
   "source": [
    "# basics methods\n",
    "\n",
    "class person:\n",
    "    def __init__(self, name, age):\n",
    "        self.name = name\n",
    "        self.age =  age\n",
    "\n",
    "person1 = person(\"John\", 25)\n",
    "print(person1) # print object address"
   ]
  },
  {
   "cell_type": "code",
   "execution_count": 27,
   "id": "c9a2d103",
   "metadata": {},
   "outputs": [
    {
     "name": "stdout",
     "output_type": "stream",
     "text": [
      "Name: Anshul, Age: 23\n",
      "Person(name=Anshul, age=23)\n",
      "6\n",
      "h\n",
      "Name: Bnshul, Age: 23\n"
     ]
    }
   ],
   "source": [
    "#overerride __str__ method\n",
    "\n",
    "class person:\n",
    "    def __init__(self, name, age):\n",
    "        self.name = name\n",
    "        self.age =  age\n",
    "\n",
    "    def __str__(self):\n",
    "        return f\"Name: {self.name}, Age: {self.age}\"\n",
    "\n",
    "    def __repr__(self):\n",
    "        return f\"Person(name={self.name}, age={self.age})\"\n",
    "    \n",
    "    def __len__(self):\n",
    "        return len(self.name) # returns the length of the name attribute\n",
    "    \n",
    "    def __getitem__(self, index):\n",
    "        return self.name[index] # returns the character at the specified index of the name attribute\n",
    "    \n",
    "    def __setitem__(self, index, value):\n",
    "        self.name = self.name[:index] + value + self.name[index+1:] # sets the character at the specified index of the name attribute\n",
    "    \n",
    "person1 = person(\"Anshul\", 23)\n",
    "print(person1)  #` prints the string representation of the object`\n",
    "print(repr(person1))  # prints the representation of the object\n",
    "print(len(person1))  # prints the length of the name attribute\n",
    "print(person1[3])  # prints the first character of the name attribute\n",
    "person1[0] = \"B\"  # sets the first character of the name attribute to \"B\"\n",
    "print(person1)\n"
   ]
  }
 ],
 "metadata": {
  "kernelspec": {
   "display_name": "base",
   "language": "python",
   "name": "python3"
  },
  "language_info": {
   "codemirror_mode": {
    "name": "ipython",
    "version": 3
   },
   "file_extension": ".py",
   "mimetype": "text/x-python",
   "name": "python",
   "nbconvert_exporter": "python",
   "pygments_lexer": "ipython3",
   "version": "3.13.5"
  }
 },
 "nbformat": 4,
 "nbformat_minor": 5
}
