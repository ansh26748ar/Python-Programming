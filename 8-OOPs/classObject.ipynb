{
 "cells": [
  {
   "cell_type": "markdown",
   "id": "a8948068",
   "metadata": {},
   "source": [
    "**Class and Objects:** \n",
    "are instances of a class. Objects are created using class definitions. Objects have attributes and methods. In Python, classes are defined using the \"class\" keyword. Objects are created using the class name followed by parentheses."
   ]
  },
  {
   "cell_type": "code",
   "execution_count": 2,
   "id": "5b3c6a67",
   "metadata": {},
   "outputs": [
    {
     "name": "stdout",
     "output_type": "stream",
     "text": [
      "<class '__main__.car'>\n"
     ]
    }
   ],
   "source": [
    "class car:\n",
    "    pass\n",
    "\n",
    "audi = car()\n",
    "bmw = car()\n",
    "\n",
    "print(type(audi))  # Output: <class '__main__.car'>\n"
   ]
  },
  {
   "cell_type": "code",
   "execution_count": 3,
   "id": "c7d74d54",
   "metadata": {},
   "outputs": [
    {
     "name": "stdout",
     "output_type": "stream",
     "text": [
      "<__main__.car object at 0x000001E1CE3441A0>\n",
      "<__main__.car object at 0x000001E1CD576C10>\n"
     ]
    }
   ],
   "source": [
    "print(audi)  # at address 0x7f5924c05d30>\n",
    "print(bmw)"
   ]
  },
  {
   "cell_type": "code",
   "execution_count": 4,
   "id": "6e03e814",
   "metadata": {},
   "outputs": [
    {
     "name": "stdout",
     "output_type": "stream",
     "text": [
      "4\n"
     ]
    }
   ],
   "source": [
    "audi.windows = 4 #initilizing attributes this is not reccommended\n",
    "print(audi.windows)  # Output: 4"
   ]
  },
  {
   "cell_type": "code",
   "execution_count": 5,
   "id": "09fc2f81",
   "metadata": {},
   "outputs": [
    {
     "ename": "AttributeError",
     "evalue": "'car' object has no attribute 'windows'",
     "output_type": "error",
     "traceback": [
      "\u001b[1;31m---------------------------------------------------------------------------\u001b[0m",
      "\u001b[1;31mAttributeError\u001b[0m                            Traceback (most recent call last)",
      "Cell \u001b[1;32mIn[5], line 3\u001b[0m\n\u001b[0;32m      1\u001b[0m tata \u001b[38;5;241m=\u001b[39m car()\n\u001b[0;32m      2\u001b[0m tata\u001b[38;5;241m.\u001b[39mdoor \u001b[38;5;241m=\u001b[39m \u001b[38;5;241m4\u001b[39m\n\u001b[1;32m----> 3\u001b[0m \u001b[38;5;28mprint\u001b[39m(tata\u001b[38;5;241m.\u001b[39mwindows)\n",
      "\u001b[1;31mAttributeError\u001b[0m: 'car' object has no attribute 'windows'"
     ]
    }
   ],
   "source": [
    "tata = car()\n",
    "tata.door = 4\n",
    "print(tata.windows)  # window is not an attribute of tata"
   ]
  },
  {
   "cell_type": "code",
   "execution_count": 6,
   "id": "2cb0e4d7",
   "metadata": {},
   "outputs": [
    {
     "data": {
      "text/plain": [
       "['__class__',\n",
       " '__delattr__',\n",
       " '__dict__',\n",
       " '__dir__',\n",
       " '__doc__',\n",
       " '__eq__',\n",
       " '__firstlineno__',\n",
       " '__format__',\n",
       " '__ge__',\n",
       " '__getattribute__',\n",
       " '__getstate__',\n",
       " '__gt__',\n",
       " '__hash__',\n",
       " '__init__',\n",
       " '__init_subclass__',\n",
       " '__le__',\n",
       " '__lt__',\n",
       " '__module__',\n",
       " '__ne__',\n",
       " '__new__',\n",
       " '__reduce__',\n",
       " '__reduce_ex__',\n",
       " '__repr__',\n",
       " '__setattr__',\n",
       " '__sizeof__',\n",
       " '__static_attributes__',\n",
       " '__str__',\n",
       " '__subclasshook__',\n",
       " '__weakref__',\n",
       " 'door']"
      ]
     },
     "execution_count": 6,
     "metadata": {},
     "output_type": "execute_result"
    }
   ],
   "source": [
    "dir(tata) #output the functions and attributes of the object"
   ]
  },
  {
   "cell_type": "code",
   "execution_count": null,
   "id": "35d87b52",
   "metadata": {},
   "outputs": [
    {
     "name": "stdout",
     "output_type": "stream",
     "text": [
      "<__main__.Dog object at 0x000001E1CD4D3A10>\n",
      "Jack\n",
      "5\n"
     ]
    }
   ],
   "source": [
    "#Instance variables\n",
    "class Dog:\n",
    "    ##constructor\n",
    "    def __init__(self, name,age): #self is the instance of the class, like \"this\" keyword in C++ \n",
    "        self.name = name\n",
    "        self.age = age\n",
    "\n",
    "dog1 = Dog(\"Jack\", 5)\n",
    "print(dog1) #print address of the object\n",
    "print(dog1.name) \n",
    "print(dog1.age)"
   ]
  },
  {
   "cell_type": "code",
   "execution_count": 10,
   "id": "8b5af30c",
   "metadata": {},
   "outputs": [
    {
     "name": "stdout",
     "output_type": "stream",
     "text": [
      "Tommy\n",
      "3\n"
     ]
    }
   ],
   "source": [
    "dog2 = Dog(\"Tommy\", 3)\n",
    "print(dog2.name)\n",
    "print(dog2.age)"
   ]
  },
  {
   "cell_type": "code",
   "execution_count": 15,
   "id": "36edfd6c",
   "metadata": {},
   "outputs": [
    {
     "name": "stdout",
     "output_type": "stream",
     "text": [
      "Jack says Woof!\n",
      "Lucy says Woof!\n"
     ]
    }
   ],
   "source": [
    "#Instance methods: like functions but inside the class , eg., barking, walking\n",
    "class Dog:\n",
    "    def __init__(self, name, age):\n",
    "        self.name = name\n",
    "        self.age = age\n",
    "\n",
    "    def bark(self):\n",
    "        print(f\"{self.name} says Woof!\")\n",
    "\n",
    "dog1 = Dog(\"Jack\", 5)\n",
    "dog1.bark() \n",
    "\n",
    "dog2 = Dog(\"Lucy\", 6)\n",
    "dog2.bark()"
   ]
  },
  {
   "cell_type": "code",
   "execution_count": 21,
   "id": "b89ca886",
   "metadata": {},
   "outputs": [],
   "source": [
    "#modeling a bank account\n",
    "class BankAccount:\n",
    "    def __init__(self, owner, balance =0):\n",
    "        self.owner = owner\n",
    "        self.balance = balance\n",
    "\n",
    "    def deposit(self, amount):\n",
    "        self.balance += amount\n",
    "        print(f\"{amount} is deposited to  your acoount, and now balance is {self.balance}\")\n",
    "\n",
    "    def withdraw(self, amount):\n",
    "        if(self.balance<amount):\n",
    "            print(\"Insufficient Balance\")\n",
    "        else:\n",
    "            self.balance -= amount\n",
    "            print(f\"{amount} is withdrawn from your acoount, and now balance is {self.balance}\")\n",
    "    def getBalance(self):\n",
    "        print(f\"Balane is: {self.balance}\")"
   ]
  },
  {
   "cell_type": "code",
   "execution_count": 22,
   "id": "c19d726b",
   "metadata": {},
   "outputs": [
    {
     "name": "stdout",
     "output_type": "stream",
     "text": [
      "Owner is Anshul and balance is 10000\n",
      "2000 is deposited to  your acoount, and now balance is 12000\n",
      "5000 is withdrawn from your acoount, and now balance is 7000\n",
      "Insufficient Balance\n",
      "Balane is: 7000\n"
     ]
    }
   ],
   "source": [
    "object1 = BankAccount(\"Anshul\", 10000)\n",
    "print(f\"Owner is {object1.owner} and balance is {object1.balance}\")\n",
    "object1.deposit(2000)\n",
    "object1.withdraw(5000)\n",
    "object1.withdraw(15000)\n",
    "object1.getBalance()"
   ]
  },
  {
   "cell_type": "markdown",
   "id": "e98c5f03",
   "metadata": {},
   "source": [
    "Conclusion: classes and objects are fundamental concepts in object-oriented programming (OOP). Understanding the syntax and semantics of classes and objects will help you write more efficient and maintainable code. Mastering these concepts"
   ]
  }
 ],
 "metadata": {
  "kernelspec": {
   "display_name": "base",
   "language": "python",
   "name": "python3"
  },
  "language_info": {
   "codemirror_mode": {
    "name": "ipython",
    "version": 3
   },
   "file_extension": ".py",
   "mimetype": "text/x-python",
   "name": "python",
   "nbconvert_exporter": "python",
   "pygments_lexer": "ipython3",
   "version": "3.13.5"
  }
 },
 "nbformat": 4,
 "nbformat_minor": 5
}
