{
 "cells": [
  {
   "cell_type": "markdown",
   "id": "93de7177",
   "metadata": {},
   "source": [
    "### Generators:\n",
    "- Generators are a type of iterable, like lists or tuples. Unlike lists, they don't allow indexing with arbitrary indices, but they can still be iterated through with for loops.\n",
    "- Generators are created using functions and the `yield` statement.\n",
    "- When a function contains the `yield` keyword, the function becomes a generator function. Instead of returning a single value, a generator function returns a generator object.\n",
    "- The `yield` keyword is used to produce a value, but it does not terminate the function execution. Instead, it suspends the function's execution and saves the state of the local variables. The next time the function is called, the execution resumes from the point where the `yield` statement was paused.\n",
    "- Generators can be iterated through using a for loop or by using the `next()` function."
   ]
  },
  {
   "cell_type": "code",
   "execution_count": 13,
   "id": "520d8fa5",
   "metadata": {},
   "outputs": [
    {
     "data": {
      "text/plain": [
       "<generator object square at 0x000001B12FEA7B90>"
      ]
     },
     "execution_count": 13,
     "metadata": {},
     "output_type": "execute_result"
    }
   ],
   "source": [
    "def square(n):\n",
    "    for i in range(3):\n",
    "        yield i**2\n",
    "\n",
    "square(3)"
   ]
  },
  {
   "cell_type": "code",
   "execution_count": 14,
   "id": "23d5bcb2",
   "metadata": {},
   "outputs": [
    {
     "name": "stdout",
     "output_type": "stream",
     "text": [
      "0\n",
      "1\n",
      "4\n"
     ]
    }
   ],
   "source": [
    "for i in square(3):\n",
    "    print(i)"
   ]
  },
  {
   "cell_type": "code",
   "execution_count": 8,
   "id": "196d33bb",
   "metadata": {},
   "outputs": [
    {
     "name": "stdout",
     "output_type": "stream",
     "text": [
      "0\n",
      "1\n",
      "2\n"
     ]
    }
   ],
   "source": [
    "def my_gen(): \n",
    "    for i in range(5): # will not store values in memory , will only yield when called, \n",
    "        # and will stop after 50, this way memory is saved and it is faster when large no is used e.g; 1000000\n",
    "        yield i\n",
    "\n",
    "gen = my_gen()\n",
    "print(next(gen)) # prints 0\n",
    "print(next(gen)) # prints 1\n",
    "print(next(gen)) # prints 2\n",
    "\n",
    "\n",
    "\n"
   ]
  },
  {
   "cell_type": "code",
   "execution_count": 9,
   "id": "fe9d68f8",
   "metadata": {},
   "outputs": [
    {
     "name": "stdout",
     "output_type": "stream",
     "text": [
      "0\n",
      "1\n",
      "2\n",
      "3\n",
      "4\n"
     ]
    }
   ],
   "source": [
    "for i in my_gen():\n",
    "    print(i) # prints numbers from 0 to 49"
   ]
  },
  {
   "cell_type": "code",
   "execution_count": 32,
   "id": "657ec638",
   "metadata": {},
   "outputs": [],
   "source": [
    "def my_gen2():\n",
    "    yield 1\n",
    "    yield 2\n",
    "    yield 3\n",
    "\n"
   ]
  },
  {
   "cell_type": "code",
   "execution_count": 33,
   "id": "ac5a1d45",
   "metadata": {},
   "outputs": [
    {
     "data": {
      "text/plain": [
       "<generator object my_gen2 at 0x000001B13085B270>"
      ]
     },
     "execution_count": 33,
     "metadata": {},
     "output_type": "execute_result"
    }
   ],
   "source": [
    "gen = my_gen2()\n",
    "gen"
   ]
  },
  {
   "cell_type": "code",
   "execution_count": 34,
   "id": "7d45125e",
   "metadata": {},
   "outputs": [
    {
     "data": {
      "text/plain": [
       "3"
      ]
     },
     "execution_count": 34,
     "metadata": {},
     "output_type": "execute_result"
    }
   ],
   "source": [
    "next(gen) #one by one it will yield the values\n",
    "next(gen)\n",
    "next(gen)"
   ]
  },
  {
   "cell_type": "code",
   "execution_count": 37,
   "id": "f2caf59d",
   "metadata": {},
   "outputs": [
    {
     "data": {
      "text/plain": [
       "<generator object my_gen2 at 0x000001B1308DC0F0>"
      ]
     },
     "execution_count": 37,
     "metadata": {},
     "output_type": "execute_result"
    }
   ],
   "source": [
    "gen2 = my_gen2()\n",
    "gen2"
   ]
  },
  {
   "cell_type": "code",
   "execution_count": 38,
   "id": "6fe40d84",
   "metadata": {},
   "outputs": [
    {
     "name": "stdout",
     "output_type": "stream",
     "text": [
      "1\n",
      "2\n",
      "3\n"
     ]
    }
   ],
   "source": [
    "for val in gen2:\n",
    "    print(val)  # This will not print anything as the generator has been exhausted"
   ]
  },
  {
   "cell_type": "markdown",
   "id": "b226449f",
   "metadata": {},
   "source": [
    "#### Practical Example\n",
    "- reading a file , and print its content witout saving it "
   ]
  },
  {
   "cell_type": "code",
   "execution_count": 41,
   "id": "df9913f4",
   "metadata": {},
   "outputs": [],
   "source": [
    "def read_file(file_path):\n",
    "    with open(file_path, 'r') as file:\n",
    "        for line in file:\n",
    "            yield line.strip()  # Yield each line without storing the entire file in memory"
   ]
  },
  {
   "cell_type": "code",
   "execution_count": 42,
   "id": "801e54d1",
   "metadata": {},
   "outputs": [
    {
     "name": "stdout",
     "output_type": "stream",
     "text": [
      "Sorbitol may be synthesised via a glucose reduction reaction[7] in which the converted aldehyde group is converted into a hydroxyl group.\n",
      "\n",
      "The reaction requires NADH and is catalyzed by aldose reductase.\n",
      "\n",
      "Glucose reduction is the first step of the polyol pathway of glucose metabolism,\n",
      "and is implicated in multiple diabetic complications.\n",
      "\n",
      "C6H12O6 + NADH + H+ → C6H14O6 + NAD+\n",
      "\n",
      "The mechanism involves a tyrosine residue in the active site of aldehyde reductase.\n",
      "The hydrogen atom on NADH is transferred to the electrophilic aldehyde carbon atom;\n",
      "electrons on the aldehyde carbon-oxygen double bond are transferred to the oxygen\n",
      "\n",
      "that abstracts the proton on tyrosine side chain to form the hydroxyl group.\n",
      "The role of aldehyde reductase tyrosine phenol group is to serve as a general acid\n",
      "\n",
      "to provide proton to the reduced aldehyde oxygen on glucose.\n",
      "\n"
     ]
    }
   ],
   "source": [
    "file_path = 'example.txt'  # Replace with your file path\n",
    "for line in read_file(file_path):\n",
    "    print(line)  # This will print each line of the file without loading the entire file into memory"
   ]
  },
  {
   "cell_type": "code",
   "execution_count": null,
   "id": "8ecb7197",
   "metadata": {},
   "outputs": [],
   "source": []
  }
 ],
 "metadata": {
  "kernelspec": {
   "display_name": "base",
   "language": "python",
   "name": "python3"
  },
  "language_info": {
   "codemirror_mode": {
    "name": "ipython",
    "version": 3
   },
   "file_extension": ".py",
   "mimetype": "text/x-python",
   "name": "python",
   "nbconvert_exporter": "python",
   "pygments_lexer": "ipython3",
   "version": "3.13.5"
  }
 },
 "nbformat": 4,
 "nbformat_minor": 5
}
