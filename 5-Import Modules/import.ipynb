{
 "cells": [
  {
   "cell_type": "markdown",
   "id": "463e15b6",
   "metadata": {},
   "source": [
    "Importing Modules and packages"
   ]
  },
  {
   "cell_type": "code",
   "execution_count": 1,
   "id": "111083bb",
   "metadata": {},
   "outputs": [
    {
     "data": {
      "text/plain": [
       "4.0"
      ]
     },
     "execution_count": 1,
     "metadata": {},
     "output_type": "execute_result"
    }
   ],
   "source": [
    "import math\n",
    "math.sqrt(16)  # Returns the square root of 16"
   ]
  },
  {
   "cell_type": "code",
   "execution_count": 3,
   "id": "9282f85a",
   "metadata": {},
   "outputs": [
    {
     "name": "stdout",
     "output_type": "stream",
     "text": [
      "4.0\n",
      "3.141592653589793\n"
     ]
    }
   ],
   "source": [
    "from math import sqrt,pi #may have multiple packages\n",
    "print(sqrt(16))  # Returns the square root of 16\n",
    "print(pi)  # Returns the value of pi"
   ]
  },
  {
   "cell_type": "markdown",
   "id": "c70b8013",
   "metadata": {},
   "source": [
    "Usually need to install numpy or similar libraries before using them. But I'm using base environment of anaconnda as it already has many standard libraries."
   ]
  },
  {
   "cell_type": "code",
   "execution_count": 5,
   "id": "d9b8fe21",
   "metadata": {},
   "outputs": [
    {
     "data": {
      "text/plain": [
       "array([1, 2, 3])"
      ]
     },
     "execution_count": 5,
     "metadata": {},
     "output_type": "execute_result"
    }
   ],
   "source": [
    "import numpy as np #using short form np for numpy\n",
    "np.array([1, 2, 3])  # Creates a numpy array"
   ]
  },
  {
   "cell_type": "code",
   "execution_count": 6,
   "id": "e387d0f7",
   "metadata": {},
   "outputs": [
    {
     "name": "stdout",
     "output_type": "stream",
     "text": [
      "4.0\n",
      "3.141592653589793\n"
     ]
    }
   ],
   "source": [
    "from math import * #Import all functions from math module\n",
    "print(sqrt(16)) \n",
    "print(pi) "
   ]
  },
  {
   "cell_type": "code",
   "execution_count": 9,
   "id": "3e920454",
   "metadata": {},
   "outputs": [
    {
     "name": "stdout",
     "output_type": "stream",
     "text": [
      "8\n"
     ]
    }
   ],
   "source": [
    "#using a custom package, u user defined\n",
    "from package.math import addition\n",
    "print(addition(5, 3))  # Returns the sum of 5 and 3"
   ]
  },
  {
   "cell_type": "code",
   "execution_count": null,
   "id": "17ba0f14",
   "metadata": {},
   "outputs": [],
   "source": []
  }
 ],
 "metadata": {
  "kernelspec": {
   "display_name": "base",
   "language": "python",
   "name": "python3"
  },
  "language_info": {
   "codemirror_mode": {
    "name": "ipython",
    "version": 3
   },
   "file_extension": ".py",
   "mimetype": "text/x-python",
   "name": "python",
   "nbconvert_exporter": "python",
   "pygments_lexer": "ipython3",
   "version": "3.13.5"
  }
 },
 "nbformat": 4,
 "nbformat_minor": 5
}
