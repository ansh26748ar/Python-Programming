{
 "cells": [
  {
   "cell_type": "code",
   "execution_count": null,
   "id": "05ecd092",
   "metadata": {},
   "outputs": [],
   "source": [
    "array\n",
    "random.randit()\n",
    "random.choice() \n",
    "import os # Importing os module\n",
    "\n",
    "json #for working with JSON data\n",
    "csv #for working with CSV files\n",
    "datetime #for working with dates and times\n",
    "time , sleep #for working with time and delays\n",
    "re #for pattern matching, regular expressions\n",
    "\n"
   ]
  }
 ],
 "metadata": {
  "kernelspec": {
   "display_name": "base",
   "language": "python",
   "name": "python3"
  },
  "language_info": {
   "name": "python",
   "version": "3.13.5"
  }
 },
 "nbformat": 4,
 "nbformat_minor": 5
}
