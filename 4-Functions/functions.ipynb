{
 "cells": [
  {
   "cell_type": "code",
   "execution_count": 1,
   "id": "682ed64d",
   "metadata": {},
   "outputs": [],
   "source": [
    "#syntax\n",
    "\n",
    "def function_name(parameters):\n",
    "    \"\"\"Doctring\"\"\"\n",
    "    #Function body\n",
    "    return parameters\n"
   ]
  },
  {
   "cell_type": "code",
   "execution_count": 2,
   "id": "1dc7ed5e",
   "metadata": {},
   "outputs": [
    {
     "name": "stdout",
     "output_type": "stream",
     "text": [
      "The number is even\n"
     ]
    }
   ],
   "source": [
    "num = 24\n",
    "if num%2==0:\n",
    "    print(\"The number is even\")\n",
    "else:\n",
    "    print(\"the number is odd\")"
   ]
  },
  {
   "cell_type": "code",
   "execution_count": 5,
   "id": "c53d9429",
   "metadata": {},
   "outputs": [
    {
     "name": "stdout",
     "output_type": "stream",
     "text": [
      "The number is even\n"
     ]
    }
   ],
   "source": [
    "#Function to find even and odd\n",
    "def even_or_odd(num):\n",
    "    if num%2==0:\n",
    "        print(\"The number is even\")\n",
    "    else:\n",
    "        print(\"the number is odd\")\n",
    "    return\n",
    "\n",
    "num = int(input(\"Enter the number:\"))\n",
    "even_or_odd(num) #calling function"
   ]
  },
  {
   "cell_type": "code",
   "execution_count": 7,
   "id": "7f18e3a8",
   "metadata": {},
   "outputs": [
    {
     "data": {
      "text/plain": [
       "5"
      ]
     },
     "execution_count": 7,
     "metadata": {},
     "output_type": "execute_result"
    }
   ],
   "source": [
    "#Function with multiple parameters\n",
    "#add two numbers\n",
    "def add(a,b):\n",
    "    return a+b\n",
    "\n",
    "add(2,3)"
   ]
  },
  {
   "cell_type": "code",
   "execution_count": 11,
   "id": "5b688082",
   "metadata": {},
   "outputs": [
    {
     "name": "stdout",
     "output_type": "stream",
     "text": [
      "hello Anshul, Welcome to the paradise\n",
      "hello  Anshul , Welcome to the paradise\n"
     ]
    }
   ],
   "source": [
    "#passing parameter\n",
    "def greet(name):\n",
    "    print(f\"hello {name}, Welcome to the paradise\")\n",
    "\n",
    "def greet1(name):\n",
    "    print(\"hello \", name, \", Welcome to the paradise\")\n",
    "\n",
    "name = \"Anshul\"\n",
    "greet(name)\n",
    "greet1(name)"
   ]
  },
  {
   "cell_type": "code",
   "execution_count": 13,
   "id": "18128758",
   "metadata": {},
   "outputs": [
    {
     "name": "stdout",
     "output_type": "stream",
     "text": [
      "Hello Anshul, Welcome to the paradise\n",
      "Hello Guest, Welcome to the paradise\n"
     ]
    }
   ],
   "source": [
    "#deafult parameter\n",
    "def greet1(name=\"Guest\"):\n",
    "    print(f\"Hello {name}, Welcome to the paradise\")\n",
    "\n",
    "greet1(\"Anshul\")\n",
    "greet1()   #when parameetr not passed the will print the default value"
   ]
  },
  {
   "cell_type": "code",
   "execution_count": null,
   "id": "e83768fb",
   "metadata": {},
   "outputs": [],
   "source": [
    "#varible length arguments\n",
    "#positional arguments\n",
    "\n",
    "def print_num(*args):  #asterisk args hold the variable length arguments\n",
    "    for num in args:\n",
    "        print(num)"
   ]
  },
  {
   "cell_type": "code",
   "execution_count": 17,
   "id": "dee13552",
   "metadata": {},
   "outputs": [
    {
     "name": "stdout",
     "output_type": "stream",
     "text": [
      "1\n",
      "2\n",
      "3\n",
      "4\n",
      "67\n",
      "-3\n",
      "12.4\n",
      "Anshul\n",
      "True\n"
     ]
    }
   ],
   "source": [
    "#calling function with variable length parametrs\n",
    "print_num(1,2,3,4,67,-3,12.4,\"Anshul\",True)"
   ]
  },
  {
   "cell_type": "code",
   "execution_count": 20,
   "id": "9acd32f0",
   "metadata": {},
   "outputs": [],
   "source": [
    "# keyowrds arguments\n",
    "def print_details(**kwargs):\n",
    "    for key,value in kwargs.items():\n",
    "        print(f\"{key}:{value}\")\n"
   ]
  },
  {
   "cell_type": "code",
   "execution_count": 21,
   "id": "1b60ee75",
   "metadata": {},
   "outputs": [
    {
     "name": "stdout",
     "output_type": "stream",
     "text": [
      "name:anshul\n",
      "age:23\n",
      "Add:Aligarh\n"
     ]
    }
   ],
   "source": [
    "print_details(name=\"anshul\",age=23,Add=\"Aligarh\")"
   ]
  },
  {
   "cell_type": "code",
   "execution_count": 24,
   "id": "68fa4803",
   "metadata": {},
   "outputs": [],
   "source": [
    "# combining both\n",
    "def print_details(*args, **kwargs):\n",
    "    for num in args:\n",
    "        print(f\"Positional Arguments: {num}\")\n",
    "\n",
    "    for key,value in kwargs.items():\n",
    "        print(f\"{key}:{value}\")"
   ]
  },
  {
   "cell_type": "code",
   "execution_count": 25,
   "id": "b071b92c",
   "metadata": {},
   "outputs": [
    {
     "name": "stdout",
     "output_type": "stream",
     "text": [
      "Positional Arguments: 1\n",
      "Positional Arguments: 2\n",
      "Positional Arguments: 3\n",
      "Positional Arguments: 4\n",
      "Positional Arguments: 67\n",
      "Positional Arguments: -3\n",
      "Positional Arguments: 12.4\n",
      "Positional Arguments: Anshul\n",
      "Positional Arguments: True\n",
      "name:anshul\n",
      "age:23\n",
      "Add:Aligarh\n"
     ]
    }
   ],
   "source": [
    "print_details(1,2,3,4,67,-3,12.4,\"Anshul\",True,name=\"anshul\",age=23,Add=\"Aligarh\")"
   ]
  },
  {
   "cell_type": "code",
   "execution_count": 27,
   "id": "7800a981",
   "metadata": {},
   "outputs": [
    {
     "name": "stdout",
     "output_type": "stream",
     "text": [
      "720\n"
     ]
    }
   ],
   "source": [
    "#return statements\n",
    "def multiply(*args):\n",
    "    product = 1\n",
    "    for i in args:\n",
    "        product = i*product\n",
    "    return product\n",
    "\n",
    "ans = multiply(1,2,3,4,5,6)\n",
    "print(ans)"
   ]
  },
  {
   "cell_type": "code",
   "execution_count": 31,
   "id": "3f9f0998",
   "metadata": {},
   "outputs": [
    {
     "data": {
      "text/plain": [
       "True"
      ]
     },
     "execution_count": 31,
     "metadata": {},
     "output_type": "execute_result"
    }
   ],
   "source": [
    "strings = \"anshul is my  name\"\n",
    "strings.islower()"
   ]
  },
  {
   "cell_type": "code",
   "execution_count": null,
   "id": "7f8c9a06",
   "metadata": {},
   "outputs": [],
   "source": []
  }
 ],
 "metadata": {
  "kernelspec": {
   "display_name": "base",
   "language": "python",
   "name": "python3"
  },
  "language_info": {
   "codemirror_mode": {
    "name": "ipython",
    "version": 3
   },
   "file_extension": ".py",
   "mimetype": "text/x-python",
   "name": "python",
   "nbconvert_exporter": "python",
   "pygments_lexer": "ipython3",
   "version": "3.13.5"
  }
 },
 "nbformat": 4,
 "nbformat_minor": 5
}
