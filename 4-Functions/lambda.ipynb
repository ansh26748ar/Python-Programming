{
 "cells": [
  {
   "cell_type": "code",
   "execution_count": 2,
   "id": "aa706b04",
   "metadata": {},
   "outputs": [
    {
     "name": "stdout",
     "output_type": "stream",
     "text": [
      "6\n"
     ]
    }
   ],
   "source": [
    "#basic function\n",
    "def addition(a,b):\n",
    "    print(a+b)\n",
    "\n",
    "addition(2,4)"
   ]
  },
  {
   "cell_type": "code",
   "execution_count": 6,
   "id": "2705d9b8",
   "metadata": {},
   "outputs": [
    {
     "name": "stdout",
     "output_type": "stream",
     "text": [
      "<class 'function'>\n",
      "13\n"
     ]
    }
   ],
   "source": [
    "#lambda function : anonymus function with one expression \n",
    "#syntax\n",
    "#lambda arguments: expression\n",
    "addition = lambda a,b : a+b \n",
    "print(type(addition))\n",
    "print(addition(6,7))\n"
   ]
  },
  {
   "cell_type": "code",
   "execution_count": 7,
   "id": "7b9c8c85",
   "metadata": {},
   "outputs": [
    {
     "name": "stdout",
     "output_type": "stream",
     "text": [
      "False\n"
     ]
    }
   ],
   "source": [
    "def even(num):\n",
    "    if num%2==0:\n",
    "        return True\n",
    "    else:\n",
    "        return False\n",
    "    \n",
    "print(even(5))"
   ]
  },
  {
   "cell_type": "code",
   "execution_count": 9,
   "id": "57bdc684",
   "metadata": {},
   "outputs": [
    {
     "name": "stdout",
     "output_type": "stream",
     "text": [
      "False\n",
      "True\n"
     ]
    }
   ],
   "source": [
    "#lambda function of even:\n",
    "even1 = lambda num : num%2==0\n",
    "print(even1(13))\n",
    "print(even1(46))"
   ]
  },
  {
   "cell_type": "code",
   "execution_count": 12,
   "id": "412468e4",
   "metadata": {},
   "outputs": [
    {
     "name": "stdout",
     "output_type": "stream",
     "text": [
      "6\n"
     ]
    }
   ],
   "source": [
    "def add(x,y,z):\n",
    "    return x+y+z\n",
    "\n",
    "#lambda function\n",
    "add = lambda x,y,z : x+y+z\n",
    "print(add(1,2,3))"
   ]
  },
  {
   "cell_type": "code",
   "execution_count": 13,
   "id": "21c3c55b",
   "metadata": {},
   "outputs": [
    {
     "data": {
      "text/plain": [
       "4"
      ]
     },
     "execution_count": 13,
     "metadata": {},
     "output_type": "execute_result"
    }
   ],
   "source": [
    "numbers = [1,2,3,4,5,6,7,8,9,10]\n",
    "def square(numbers):\n",
    "    return numbers**2\n",
    "\n",
    "square(2)"
   ]
  },
  {
   "cell_type": "code",
   "execution_count": 16,
   "id": "b1d127a7",
   "metadata": {},
   "outputs": [
    {
     "data": {
      "text/plain": [
       "[1, 4, 9, 16, 25, 36, 49, 64, 81, 100]"
      ]
     },
     "execution_count": 16,
     "metadata": {},
     "output_type": "execute_result"
    }
   ],
   "source": [
    "#map() - applies a function to all memners of a list\n",
    "list(map(lambda x:x**2, numbers))"
   ]
  },
  {
   "cell_type": "code",
   "execution_count": null,
   "id": "d95159d9",
   "metadata": {},
   "outputs": [],
   "source": []
  }
 ],
 "metadata": {
  "kernelspec": {
   "display_name": "base",
   "language": "python",
   "name": "python3"
  },
  "language_info": {
   "codemirror_mode": {
    "name": "ipython",
    "version": 3
   },
   "file_extension": ".py",
   "mimetype": "text/x-python",
   "name": "python",
   "nbconvert_exporter": "python",
   "pygments_lexer": "ipython3",
   "version": "3.13.5"
  }
 },
 "nbformat": 4,
 "nbformat_minor": 5
}
