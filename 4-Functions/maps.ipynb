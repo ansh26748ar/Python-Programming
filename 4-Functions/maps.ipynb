{
 "cells": [
  {
   "cell_type": "markdown",
   "id": "67a57e66",
   "metadata": {},
   "source": [
    "#map() - applies a function to all memners of a list\n"
   ]
  },
  {
   "cell_type": "code",
   "execution_count": 1,
   "id": "9ec2901b",
   "metadata": {},
   "outputs": [],
   "source": [
    "numbers = [1,2,3,4,5,6,7,8,9,10]\n",
    "def square(numbers):\n",
    "    return numbers**2\n"
   ]
  },
  {
   "cell_type": "code",
   "execution_count": 2,
   "id": "8716e817",
   "metadata": {},
   "outputs": [
    {
     "name": "stdout",
     "output_type": "stream",
     "text": [
      "1\n",
      "4\n",
      "9\n",
      "16\n",
      "25\n",
      "36\n",
      "49\n",
      "64\n",
      "81\n",
      "100\n"
     ]
    }
   ],
   "source": [
    "for num in numbers:\n",
    "    print(square(num))"
   ]
  },
  {
   "cell_type": "code",
   "execution_count": 5,
   "id": "0dbc2cdc",
   "metadata": {},
   "outputs": [
    {
     "data": {
      "text/plain": [
       "[1, 4, 9, 16, 25, 36, 49, 64, 81, 100]"
      ]
     },
     "execution_count": 5,
     "metadata": {},
     "output_type": "execute_result"
    }
   ],
   "source": [
    "list(map(square,numbers)) #without any for loop"
   ]
  },
  {
   "cell_type": "code",
   "execution_count": 6,
   "id": "9ce21445",
   "metadata": {},
   "outputs": [
    {
     "data": {
      "text/plain": [
       "[1, 4, 9, 16, 25, 36, 49, 64, 81, 100]"
      ]
     },
     "execution_count": 6,
     "metadata": {},
     "output_type": "execute_result"
    }
   ],
   "source": [
    "#lambda function with map\n",
    "\n",
    "list(map(lambda x:x**2, numbers))"
   ]
  },
  {
   "cell_type": "code",
   "execution_count": 9,
   "id": "85bf784c",
   "metadata": {},
   "outputs": [
    {
     "data": {
      "text/plain": [
       "[5, 7, 9]"
      ]
     },
     "execution_count": 9,
     "metadata": {},
     "output_type": "execute_result"
    }
   ],
   "source": [
    "### Map Multiple iterations\n",
    "\n",
    "numbers1 = [1,2,3]\n",
    "numbers2 = [4,5,6]\n",
    "\n",
    "list(map(lambda x,y:x+y,numbers1,numbers2))\n"
   ]
  },
  {
   "cell_type": "code",
   "execution_count": null,
   "id": "5c1ccb52",
   "metadata": {},
   "outputs": [
    {
     "name": "stdout",
     "output_type": "stream",
     "text": [
      "[1, 2, 3, 4, 5]\n",
      "<class 'list'>\n"
     ]
    }
   ],
   "source": [
    "#string to int\n",
    "str_numbers = ['1','2','3','4','5']\n",
    "int_numbers = list(map(int,str_numbers))\n",
    "print(int_numbers)\n",
    "print(type(int_numbers))"
   ]
  },
  {
   "cell_type": "code",
   "execution_count": 18,
   "id": "618d78eb",
   "metadata": {},
   "outputs": [
    {
     "name": "stdout",
     "output_type": "stream",
     "text": [
      "['ANSHUL', 'PIKU', 'CHLI']\n"
     ]
    }
   ],
   "source": [
    "#lower to upper\n",
    "low = [\"anshul\",\"piku\",\"chli\"]\n",
    "upp = list(map(str.upper,low))\n",
    "print(upp)"
   ]
  },
  {
   "cell_type": "code",
   "execution_count": 5,
   "id": "8b4f428c",
   "metadata": {},
   "outputs": [
    {
     "data": {
      "text/plain": [
       "['ansh', 'anshul']"
      ]
     },
     "execution_count": 5,
     "metadata": {},
     "output_type": "execute_result"
    }
   ],
   "source": [
    "#return name from a dictionary of people\n",
    "def get_name(person):\n",
    "    return person['name']\n",
    "\n",
    "\n",
    "people = [{\"name\":\"ansh\",\"Age\":23},\n",
    "          {\"name\":\"anshul\",\"Age\":24}\n",
    "          ]\n",
    "\n",
    "list(map(get_name,people))"
   ]
  },
  {
   "cell_type": "code",
   "execution_count": null,
   "id": "0390613f",
   "metadata": {},
   "outputs": [],
   "source": []
  }
 ],
 "metadata": {
  "kernelspec": {
   "display_name": "base",
   "language": "python",
   "name": "python3"
  },
  "language_info": {
   "codemirror_mode": {
    "name": "ipython",
    "version": 3
   },
   "file_extension": ".py",
   "mimetype": "text/x-python",
   "name": "python",
   "nbconvert_exporter": "python",
   "pygments_lexer": "ipython3",
   "version": "3.13.5"
  }
 },
 "nbformat": 4,
 "nbformat_minor": 5
}
