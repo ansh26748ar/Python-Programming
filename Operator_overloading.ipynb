{
 "cells": [
  {
   "cell_type": "markdown",
   "id": "a83c8858",
   "metadata": {},
   "source": [
    "### Operator overloading: \n",
    "Operator overloading is a feature in Python where operators behave differently based on the operands. For example, the + operator can be used to concatenate strings or perform addition operations. Using the same operator for different operations can make the code more readable and efficient.\n",
    "\n",
    "##### Common operator overloading magic methods:\n",
    "1. `__add__(self, other)`: '+' when add two objects of the same class.\n",
    "2. `__sub__(self, other)`: '-' when subtract two objects of the same class.\n",
    "3. `__mul__(self, other)`: '*' when multiply two objects of the same class.\n",
    "4. `__truediv__(self, other)`: '/' when divide two objects of the same class.\n",
    "5. `__floordiv__(self, other)`: '//' when divide two objects of the same class.\n",
    "6. `__pow__(self, other)`: '**' when raise one object to the power of another.\n",
    "7. `__eq___(self, other)`: '==' when compare two objects of the same class.\n",
    "8. `___lt___(self, other)`: '<' when compare two objects of the same class."
   ]
  },
  {
   "cell_type": "code",
   "execution_count": null,
   "id": "06458a4b",
   "metadata": {},
   "outputs": [
    {
     "name": "stdout",
     "output_type": "stream",
     "text": [
      "Vector(4, 6)\n",
      "Vector(2, 2)\n",
      "Vector(6, 8)\n",
      "False\n"
     ]
    }
   ],
   "source": [
    "class Vector:\n",
    "    def __init__(self, x, y):\n",
    "        self.x = x\n",
    "        self.y = y\n",
    "\n",
    "    def __add__(self, other):\n",
    "        return Vector(self.x + other.x, self.y + other.y)\n",
    "\n",
    "    def __sub__(self, other):   \n",
    "        return Vector(self.x - other.x, self.y - other.y)\n",
    "\n",
    "    def __mul__(self, scalar):  \n",
    "        return Vector(self.x * scalar, self.y * scalar)\n",
    "\n",
    "    def __eq__(self, other):\n",
    "        return self.x == other.x and self.y == other.y\n",
    "\n",
    "    def __str__(self):\n",
    "        return f'Vector({self.x}, {self.y})'\n",
    "\n",
    "vector1 = Vector(3, 4)\n",
    "vector2 = Vector(1, 2)\n",
    "result = vector1 + vector2\n",
    "print(result)  # Output: Vector(4, 6)\n",
    "result = vector1 - vector2\n",
    "print(result)  # Output: Vector(2, 2)\n",
    "result = vector1 * 2\n",
    "print(result)  # Output: Vector(6, 8)\n",
    "result = vector1 == vector2\n",
    "print(result)  # Output: False \n",
    "\n"
   ]
  },
  {
   "cell_type": "code",
   "execution_count": 15,
   "id": "77eb7708",
   "metadata": {},
   "outputs": [
    {
     "name": "stdout",
     "output_type": "stream",
     "text": [
      "1 + 2i\n",
      "3 + 4i\n",
      "Addition of c1 and c2 4 + 6i\n"
     ]
    }
   ],
   "source": [
    "class complex:\n",
    "    def __init__(self,real,img):\n",
    "        self.real = real\n",
    "        self.img = img\n",
    "\n",
    "    def __add__(self,other):\n",
    "        return complex(self.real + other.real, self.img + other.img)\n",
    "\n",
    "    def __str__(self):\n",
    "        return f\"{self.real} + {self.img}i\"\n",
    "\n",
    "c1 = complex(1,2)\n",
    "print(c1)  # Output: 1 + 2i\n",
    "c2 = complex(3,4)\n",
    "print(c2)  # Output: 3 + 4i\n",
    "c3 = c1 + c2 \n",
    "print(f\"Addition of c1 and c2 {c3}\") "
   ]
  }
 ],
 "metadata": {
  "kernelspec": {
   "display_name": "base",
   "language": "python",
   "name": "python3"
  },
  "language_info": {
   "codemirror_mode": {
    "name": "ipython",
    "version": 3
   },
   "file_extension": ".py",
   "mimetype": "text/x-python",
   "name": "python",
   "nbconvert_exporter": "python",
   "pygments_lexer": "ipython3",
   "version": "3.13.5"
  }
 },
 "nbformat": 4,
 "nbformat_minor": 5
}
