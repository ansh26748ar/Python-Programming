{
 "cells": [
  {
   "cell_type": "code",
   "execution_count": 5,
   "id": "d10c3e46",
   "metadata": {},
   "outputs": [
    {
     "name": "stdout",
     "output_type": "stream",
     "text": [
      "<class 'list'>\n",
      "<class 'tuple'>\n"
     ]
    }
   ],
   "source": [
    "lst = list()\n",
    "print(list)\n",
    "\n",
    "tupl = tuple()\n",
    "print(tuple)\n"
   ]
  },
  {
   "cell_type": "code",
   "execution_count": null,
   "id": "10819efb",
   "metadata": {},
   "outputs": [
    {
     "name": "stdout",
     "output_type": "stream",
     "text": [
      "[1, 2, 'Ansh', 0.4, True]\n",
      "(1, 2, 'singh', 6.4, False)\n"
     ]
    }
   ],
   "source": [
    "lst = [1,2,\"Ansh\", 0.4, True]  #square brackets for list\n",
    "print(lst)\n",
    "\n",
    "tup = (1,2,\"singh\", 6.4, False) #simple brackets for tuple\n",
    "print(tup)"
   ]
  },
  {
   "cell_type": "code",
   "execution_count": 17,
   "id": "b7ef1538",
   "metadata": {},
   "outputs": [
    {
     "name": "stdout",
     "output_type": "stream",
     "text": [
      "[1, 2, 'Ansh', 0.4, True] <class 'list'>\n",
      "(1, 2, 'Ansh', 0.4, True) <class 'tuple'>\n",
      "(1, 'ansh', 0.4) <class 'tuple'>\n",
      "[1, 'ansh', 0.4] <class 'list'>\n"
     ]
    }
   ],
   "source": [
    "#cnversion \n",
    "\n",
    "list1 = [1,2,\"Ansh\", 0.4, True]\n",
    "print(list1, type(list1))\n",
    "tuple1 = tuple(list1) #conersion from list to tuple\n",
    "print(tuple1, type(tuple1))\n",
    "\n",
    "tuple2 = tuple([1,\"ansh\",0.4]) # direct conversion from list to tuple\n",
    "print(tuple2, type(tuple2))\n",
    "\n",
    "tuple2 = list((1,\"ansh\",0.4)) # direct conversion from tuple to list\n",
    "print(tuple2, type(tuple2))"
   ]
  },
  {
   "cell_type": "code",
   "execution_count": 18,
   "id": "d61d6c30",
   "metadata": {},
   "outputs": [
    {
     "data": {
      "text/plain": [
       "(1, 2, 3, 4, 5, 6)"
      ]
     },
     "execution_count": 18,
     "metadata": {},
     "output_type": "execute_result"
    }
   ],
   "source": [
    "#accessing tuple element\n",
    "\n",
    "numbers = (1,2,3,4,5,6)\n",
    "numbers"
   ]
  },
  {
   "cell_type": "code",
   "execution_count": 19,
   "id": "b2a9d64e",
   "metadata": {},
   "outputs": [
    {
     "data": {
      "text/plain": [
       "1"
      ]
     },
     "execution_count": 19,
     "metadata": {},
     "output_type": "execute_result"
    }
   ],
   "source": [
    "numbers[0]"
   ]
  },
  {
   "cell_type": "code",
   "execution_count": 20,
   "id": "9186c026",
   "metadata": {},
   "outputs": [
    {
     "data": {
      "text/plain": [
       "(3, 4)"
      ]
     },
     "execution_count": 20,
     "metadata": {},
     "output_type": "execute_result"
    }
   ],
   "source": [
    "numbers[2:4]"
   ]
  },
  {
   "cell_type": "code",
   "execution_count": 26,
   "id": "d251e2ee",
   "metadata": {},
   "outputs": [
    {
     "name": "stdout",
     "output_type": "stream",
     "text": [
      "(1, 2, 3)\n",
      "(4, 5, 6)\n",
      "(4, 5)\n",
      "(6, 5, 4, 3, 2, 1)\n"
     ]
    }
   ],
   "source": [
    "print(numbers[0:3]) #print one eleemnt before he last index \n",
    "print(numbers[3:6])\n",
    "print(numbers[3:5])\n",
    "print(numbers[::-1]) #reverse"
   ]
  },
  {
   "cell_type": "code",
   "execution_count": 29,
   "id": "198a8ee7",
   "metadata": {},
   "outputs": [
    {
     "name": "stdout",
     "output_type": "stream",
     "text": [
      "(1, 2, 3, 4, 5, 6, 1, 2, 'Ansh', 0.4, True)\n"
     ]
    }
   ],
   "source": [
    "##tuple operations\n",
    "\n",
    "concatenate_tuple= numbers + tuple1\n",
    "print(concatenate_tuple)\n"
   ]
  },
  {
   "cell_type": "code",
   "execution_count": 32,
   "id": "081a34e0",
   "metadata": {},
   "outputs": [
    {
     "data": {
      "text/plain": [
       "(1, 2, 'Ansh', 0.4, True, 1, 2, 'Ansh', 0.4, True, 1, 2, 'Ansh', 0.4, True)"
      ]
     },
     "execution_count": 32,
     "metadata": {},
     "output_type": "execute_result"
    }
   ],
   "source": [
    "tuple1 * 3 # print 3 times"
   ]
  },
  {
   "cell_type": "code",
   "execution_count": 33,
   "id": "b0393edd",
   "metadata": {},
   "outputs": [
    {
     "data": {
      "text/plain": [
       "(1, 2, 3, 4, 5, 6, 1, 2, 3, 4, 5, 6, 1, 2, 3, 4, 5, 6)"
      ]
     },
     "execution_count": 33,
     "metadata": {},
     "output_type": "execute_result"
    }
   ],
   "source": [
    "numbers*3 # print 3 times"
   ]
  },
  {
   "cell_type": "code",
   "execution_count": 36,
   "id": "6943f74f",
   "metadata": {},
   "outputs": [
    {
     "name": "stdout",
     "output_type": "stream",
     "text": [
      "[1, 2, 3, 4]\n",
      "[1, 2, 'ansh', 4]\n"
     ]
    }
   ],
   "source": [
    "## immutable nature of tuples: \n",
    "\n",
    "lst = [1,2,3,4]\n",
    "print(lst)\n",
    "\n",
    "lst[2] = \"ansh\"\n",
    "print(lst)"
   ]
  },
  {
   "cell_type": "code",
   "execution_count": 38,
   "id": "91456a5b",
   "metadata": {},
   "outputs": [
    {
     "name": "stdout",
     "output_type": "stream",
     "text": [
      "(1, 2, 3, 4)\n"
     ]
    },
    {
     "ename": "TypeError",
     "evalue": "'tuple' object does not support item assignment",
     "output_type": "error",
     "traceback": [
      "\u001b[1;31m---------------------------------------------------------------------------\u001b[0m",
      "\u001b[1;31mTypeError\u001b[0m                                 Traceback (most recent call last)",
      "Cell \u001b[1;32mIn[38], line 4\u001b[0m\n\u001b[0;32m      1\u001b[0m tup \u001b[38;5;241m=\u001b[39m (\u001b[38;5;241m1\u001b[39m,\u001b[38;5;241m2\u001b[39m,\u001b[38;5;241m3\u001b[39m,\u001b[38;5;241m4\u001b[39m)\n\u001b[0;32m      2\u001b[0m \u001b[38;5;28mprint\u001b[39m(tup)\n\u001b[1;32m----> 4\u001b[0m tup[\u001b[38;5;241m2\u001b[39m] \u001b[38;5;241m=\u001b[39m \u001b[38;5;124m\"\u001b[39m\u001b[38;5;124mansh\u001b[39m\u001b[38;5;124m\"\u001b[39m  \u001b[38;5;66;03m# values can't be changed \u001b[39;00m\n\u001b[0;32m      5\u001b[0m \u001b[38;5;28mprint\u001b[39m(tup)\n",
      "\u001b[1;31mTypeError\u001b[0m: 'tuple' object does not support item assignment"
     ]
    }
   ],
   "source": [
    "tup = (1,2,3,4)\n",
    "print(tup)\n",
    "\n",
    "tup[2] = \"ansh\"  # values can't be changed \n",
    "print(tup)"
   ]
  },
  {
   "cell_type": "code",
   "execution_count": 40,
   "id": "25b5ff3f",
   "metadata": {},
   "outputs": [
    {
     "name": "stdout",
     "output_type": "stream",
     "text": [
      "1\n",
      "1\n"
     ]
    }
   ],
   "source": [
    "#tuple methods \n",
    "print(numbers.count(1)) #count the occurence of 1\n",
    "print(numbers.index(2)) #return the index of 2\n"
   ]
  },
  {
   "cell_type": "code",
   "execution_count": null,
   "id": "4b66300e",
   "metadata": {},
   "outputs": [
    {
     "name": "stdout",
     "output_type": "stream",
     "text": [
      "(1, 'ansh', 3.4)\n",
      "(1, 'anshul', 5.6)\n"
     ]
    }
   ],
   "source": [
    "#packing an dunpacking tuple\n",
    "\n",
    "pack = 1,\"ansh\", 3.4  #packing tuple\n",
    "pack2 = (1,\"anshul\", 5.6)\n",
    "print(pack)\n",
    "print(pack2)"
   ]
  },
  {
   "cell_type": "code",
   "execution_count": 50,
   "id": "2c5bdc0a",
   "metadata": {},
   "outputs": [
    {
     "name": "stdout",
     "output_type": "stream",
     "text": [
      "1\n",
      "ansh\n",
      "3.4\n"
     ]
    }
   ],
   "source": [
    "a,b,c = pack    #unpacking, defining three elements \n",
    "                #to assign each value of tuple to unpack\n",
    "#print(a,b,c)\n",
    "print(a)\n",
    "print(b)\n",
    "print(c)"
   ]
  },
  {
   "cell_type": "code",
   "execution_count": 52,
   "id": "b961aed7",
   "metadata": {},
   "outputs": [
    {
     "name": "stdout",
     "output_type": "stream",
     "text": [
      "1\n",
      "anshul\n",
      "5.6\n"
     ]
    }
   ],
   "source": [
    "a,b,c = pack2    \n",
    "\n",
    "print(a)\n",
    "print(b)\n",
    "print(c)"
   ]
  },
  {
   "cell_type": "code",
   "execution_count": 53,
   "id": "1646a795",
   "metadata": {},
   "outputs": [
    {
     "name": "stdout",
     "output_type": "stream",
     "text": [
      "1\n",
      "[2, 3, 4, 5, 6, 7, 8, 9]\n",
      "10\n"
     ]
    }
   ],
   "source": [
    "numbers = (1,2,3,4,5,6,7,8,9,10)\n",
    "first,*middle, last = numbers\n",
    "print(first)\n",
    "print(middle)\n",
    "print(last)"
   ]
  },
  {
   "cell_type": "code",
   "execution_count": 55,
   "id": "2076f46e",
   "metadata": {},
   "outputs": [
    {
     "name": "stdout",
     "output_type": "stream",
     "text": [
      "1\n",
      "[2, 3, 4, 5, 6, 7, 8, 9, 10]\n"
     ]
    }
   ],
   "source": [
    "numbers = (1,2,3,4,5,6,7,8,9,10)\n",
    "first,*middle = numbers\n",
    "print(first)\n",
    "print(middle)\n",
    "#print(last)"
   ]
  },
  {
   "cell_type": "code",
   "execution_count": 57,
   "id": "1b98d679",
   "metadata": {},
   "outputs": [
    {
     "name": "stdout",
     "output_type": "stream",
     "text": [
      "1\n",
      "[2, 3, 4, 5, 6, 7, 8]\n",
      "9\n",
      "10\n"
     ]
    }
   ],
   "source": [
    "numbers = (1,2,3,4,5,6,7,8,9,10)\n",
    "first,*middle, last1, last2 = numbers\n",
    "print(first)\n",
    "print(middle)\n",
    "print(last1)\n",
    "print(last2)"
   ]
  },
  {
   "cell_type": "code",
   "execution_count": 58,
   "id": "a414eee9",
   "metadata": {},
   "outputs": [
    {
     "name": "stdout",
     "output_type": "stream",
     "text": [
      "[1, 2, 3, 4, 5, 6, 7, 8]\n",
      "9\n",
      "10\n"
     ]
    }
   ],
   "source": [
    "numbers = (1,2,3,4,5,6,7,8,9,10)\n",
    "*middle, last1, last2 = numbers\n",
    "# print(first)\n",
    "print(middle)\n",
    "print(last1)\n",
    "print(last2)"
   ]
  },
  {
   "cell_type": "code",
   "execution_count": 62,
   "id": "f590623f",
   "metadata": {},
   "outputs": [
    {
     "ename": "SyntaxError",
     "evalue": "starred assignment target must be in a list or tuple (1582494950.py, line 2)",
     "output_type": "error",
     "traceback": [
      "\u001b[1;36m  Cell \u001b[1;32mIn[62], line 2\u001b[1;36m\u001b[0m\n\u001b[1;33m    *middle = numbers\u001b[0m\n\u001b[1;37m    ^\u001b[0m\n\u001b[1;31mSyntaxError\u001b[0m\u001b[1;31m:\u001b[0m starred assignment target must be in a list or tuple\n"
     ]
    }
   ],
   "source": [
    "numbers = (1,2,3,4,5,6,7,8,9,10)\n",
    "*middle = numbers\n",
    "\n",
    "print(middle) \n",
    "\n",
    "'''The * must be used in unpacking along with other variables, like:\n",
    "a, *b = [1,2,3]\n",
    "or\n",
    "*a, b = [1,2,3]'''"
   ]
  },
  {
   "cell_type": "code",
   "execution_count": 67,
   "id": "574ea648",
   "metadata": {},
   "outputs": [
    {
     "name": "stdout",
     "output_type": "stream",
     "text": [
      "[1, 2, 3]\n",
      "[2, 3, 4]\n",
      "[1, 'ansh', 4.5, 6]\n"
     ]
    }
   ],
   "source": [
    "#nested tuple:\n",
    "#nested list:\n",
    "lst = [[1,2,3],[2,3,4],[1,\"ansh\",4.5,6]]\n",
    "print(lst[0])\n",
    "print(lst[1])\n",
    "print(lst[2])"
   ]
  },
  {
   "cell_type": "code",
   "execution_count": 74,
   "id": "0447b423",
   "metadata": {},
   "outputs": [
    {
     "name": "stdout",
     "output_type": "stream",
     "text": [
      "(1, 2, 3, 4, 7, 8, 9, 10)\n",
      "('a', 'b', 'c')\n",
      "(True, False)\n",
      "(3, 4, 7, 8)\n"
     ]
    }
   ],
   "source": [
    "nested_tuple = ((1,2,3,4,7,8,9,10),(\"a\",'b','c'),(True, False))\n",
    "print(nested_tuple[0])\n",
    "print(nested_tuple[1])\n",
    "print(nested_tuple[2])\n",
    "print(nested_tuple[0][2:6]) #print from 3 to 8"
   ]
  },
  {
   "cell_type": "code",
   "execution_count": 78,
   "id": "c5cdfe13",
   "metadata": {},
   "outputs": [
    {
     "name": "stdout",
     "output_type": "stream",
     "text": [
      "1  \n",
      "2  \n",
      "3  \n",
      "4  \n",
      "7  \n",
      "8  \n",
      "9  \n",
      "10  \n",
      "a  \n",
      "b  \n",
      "c  \n",
      "True  \n",
      "False  \n",
      "::::with end::: \n",
      "1 2 3 4 7 8 9 10 a b c True False "
     ]
    }
   ],
   "source": [
    "#iterating tuple elements\n",
    "\n",
    "for i in nested_tuple:\n",
    "    for j in i:\n",
    "        print(j, \" \")\n",
    "\n",
    "print(\"::::with end::: \")\n",
    "for i in nested_tuple:\n",
    "    for j in i:\n",
    "        print(j,end= \" \")"
   ]
  },
  {
   "cell_type": "code",
   "execution_count": null,
   "id": "aa769556",
   "metadata": {},
   "outputs": [],
   "source": []
  }
 ],
 "metadata": {
  "kernelspec": {
   "display_name": "base",
   "language": "python",
   "name": "python3"
  },
  "language_info": {
   "codemirror_mode": {
    "name": "ipython",
    "version": 3
   },
   "file_extension": ".py",
   "mimetype": "text/x-python",
   "name": "python",
   "nbconvert_exporter": "python",
   "pygments_lexer": "ipython3",
   "version": "3.13.5"
  }
 },
 "nbformat": 4,
 "nbformat_minor": 5
}
