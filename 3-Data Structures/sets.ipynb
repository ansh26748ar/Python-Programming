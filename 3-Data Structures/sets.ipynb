{
 "cells": [
  {
   "cell_type": "code",
   "execution_count": 2,
   "id": "51cf7300",
   "metadata": {},
   "outputs": [
    {
     "name": "stdout",
     "output_type": "stream",
     "text": [
      "{1, 2, 3, 4, 5, 6, 7, 8, 9}\n"
     ]
    }
   ],
   "source": [
    "#create a set\n",
    "sets = {1,2,3,4,5,5,6,7,8,8,9}  #no duplicates\n",
    "print(sets)"
   ]
  },
  {
   "cell_type": "code",
   "execution_count": 5,
   "id": "ee7677ba",
   "metadata": {},
   "outputs": [
    {
     "name": "stdout",
     "output_type": "stream",
     "text": [
      "set()\n",
      "<class 'set'>\n"
     ]
    }
   ],
   "source": [
    "#print empty set\n",
    "\n",
    "empty_set = set()\n",
    "print(empty_set)\n",
    "print(type(empty_set))"
   ]
  },
  {
   "cell_type": "code",
   "execution_count": 11,
   "id": "17b476cc",
   "metadata": {},
   "outputs": [
    {
     "name": "stdout",
     "output_type": "stream",
     "text": [
      "{1, 2, 3, 4}\n",
      "<class 'set'>\n"
     ]
    }
   ],
   "source": [
    "empty_set = set((1,2,3,4)) #typecast tuple to set\n",
    "print(empty_set)\n",
    "print(type(empty_set))"
   ]
  },
  {
   "cell_type": "code",
   "execution_count": 12,
   "id": "1dda4b0c",
   "metadata": {},
   "outputs": [
    {
     "name": "stdout",
     "output_type": "stream",
     "text": [
      "(1, 2, 3, 4)\n",
      "<class 'tuple'>\n"
     ]
    }
   ],
   "source": [
    "empty_set = tuple({1,2,3,4}) #tyecast set to tuple\n",
    "print(empty_set)\n",
    "print(type(empty_set))"
   ]
  },
  {
   "cell_type": "code",
   "execution_count": 18,
   "id": "c0b3c9db",
   "metadata": {},
   "outputs": [
    {
     "name": "stdout",
     "output_type": "stream",
     "text": [
      "{1, 2, 3, 4, 5, 6, 7, 8, 9}\n",
      "{1, 2, 3, 4, 5, 6, 7, 8, 9, 123}\n",
      "{1, 2, 3, 4, 5, 6, 7, 8, 9}\n",
      "{1, 2, 4, 5, 6, 7, 8, 9}\n"
     ]
    }
   ],
   "source": [
    "##basic set operation\n",
    "sets = {1,2,3,4,5,5,6,7,8,8,9}  #no duplicates\n",
    "print(sets)\n",
    "#adding elemt\n",
    "sets.add(123)\n",
    "print(sets)\n",
    "#removing elemt\n",
    "sets.remove(123)\n",
    "print(sets)\n",
    "#removing elemt\n",
    "sets.remove(3)  #can remove any index\n",
    "print(sets)"
   ]
  },
  {
   "cell_type": "code",
   "execution_count": null,
   "id": "34808471",
   "metadata": {},
   "outputs": [
    {
     "ename": "KeyError",
     "evalue": "13",
     "output_type": "error",
     "traceback": [
      "\u001b[1;31m---------------------------------------------------------------------------\u001b[0m",
      "\u001b[1;31mKeyError\u001b[0m                                  Traceback (most recent call last)",
      "Cell \u001b[1;32mIn[20], line 2\u001b[0m\n\u001b[0;32m      1\u001b[0m \u001b[38;5;66;03m#removing elemt\u001b[39;00m\n\u001b[1;32m----> 2\u001b[0m sets\u001b[38;5;241m.\u001b[39mremove(\u001b[38;5;241m13\u001b[39m)  \u001b[38;5;66;03m#13 not present\u001b[39;00m\n\u001b[0;32m      3\u001b[0m \u001b[38;5;28mprint\u001b[39m(sets)\n",
      "\u001b[1;31mKeyError\u001b[0m: 13"
     ]
    }
   ],
   "source": [
    "#removing elemt\n",
    "sets.remove(13)  #13 not present, will give an error\n",
    "print(sets)"
   ]
  },
  {
   "cell_type": "code",
   "execution_count": 22,
   "id": "9f7d18f0",
   "metadata": {},
   "outputs": [
    {
     "name": "stdout",
     "output_type": "stream",
     "text": [
      "{1, 2, 4, 5, 6, 7, 8, 9}\n"
     ]
    }
   ],
   "source": [
    "#removing elemt\n",
    "sets.discard(13)  #13 not present, but discard will not give an error \n",
    "                    #if the 13 is not present , will simply print the set\n",
    "print(sets)"
   ]
  },
  {
   "cell_type": "code",
   "execution_count": 24,
   "id": "2c41230e",
   "metadata": {},
   "outputs": [
    {
     "name": "stdout",
     "output_type": "stream",
     "text": [
      "2\n",
      "{4, 5, 6, 7, 8, 9}\n"
     ]
    }
   ],
   "source": [
    "##pop method\n",
    "remove_element = sets.pop()  #FIFO first in first out\n",
    "print(remove_element)\n",
    "print(sets)"
   ]
  },
  {
   "cell_type": "code",
   "execution_count": 26,
   "id": "648be674",
   "metadata": {},
   "outputs": [
    {
     "name": "stdout",
     "output_type": "stream",
     "text": [
      "set()\n"
     ]
    }
   ],
   "source": [
    "#clear all elemnts\n",
    "sets.clear()\n",
    "print(sets)\n"
   ]
  },
  {
   "cell_type": "code",
   "execution_count": 30,
   "id": "f4d142b3",
   "metadata": {},
   "outputs": [
    {
     "name": "stdout",
     "output_type": "stream",
     "text": [
      "True\n",
      "False\n"
     ]
    }
   ],
   "source": [
    "#set membership test\n",
    "\n",
    "my_set = {1,2,3,4,5,6,7,8,9,10}\n",
    "print(3 in my_set)  # true if present\n",
    "print(123 in my_set)  # false if not present"
   ]
  },
  {
   "cell_type": "code",
   "execution_count": 38,
   "id": "565de004",
   "metadata": {},
   "outputs": [
    {
     "name": "stdout",
     "output_type": "stream",
     "text": [
      "{1, 2, 3, 4, 5, 6, 7, 8, 9, 10, 11}\n"
     ]
    }
   ],
   "source": [
    "#mathematical operation \n",
    "#union\n",
    "set1 = {1,2,5, 7, 4,3,4,5,11}\n",
    "set2 = {6,7,8,1, 2, 3,9,10,11}\n",
    "\n",
    "ans = set1.union(set2)\n",
    "print(ans)"
   ]
  },
  {
   "cell_type": "code",
   "execution_count": 39,
   "id": "1233c695",
   "metadata": {},
   "outputs": [
    {
     "name": "stdout",
     "output_type": "stream",
     "text": [
      "{1, 2, 3, 7, 11}\n"
     ]
    }
   ],
   "source": [
    "#intersection\n",
    "ans = set1.intersection(set2)\n",
    "print(ans)\n"
   ]
  },
  {
   "cell_type": "code",
   "execution_count": 41,
   "id": "3c9fce94",
   "metadata": {},
   "outputs": [
    {
     "name": "stdout",
     "output_type": "stream",
     "text": [
      "{1, 2, 3, 7, 11}\n",
      "{1, 2, 3, 6, 7, 8, 9, 10, 11}\n"
     ]
    }
   ],
   "source": [
    "#intersection update: set = intersected set\n",
    "set1.intersection_update(set2)\n",
    "print(set1)\n",
    "print(set2)\n"
   ]
  },
  {
   "cell_type": "code",
   "execution_count": 67,
   "id": "7b4d825e",
   "metadata": {},
   "outputs": [
    {
     "name": "stdout",
     "output_type": "stream",
     "text": [
      "{1, 2, 3}\n"
     ]
    }
   ],
   "source": [
    "#difference\n",
    "set1 = {1,2,3,4,5,6}\n",
    "set2 = {4,5,6,7,8,9,10,11}\n",
    "\n",
    "print(set1.difference(set2))\n"
   ]
  },
  {
   "cell_type": "code",
   "execution_count": 68,
   "id": "d012b05d",
   "metadata": {},
   "outputs": [
    {
     "data": {
      "text/plain": [
       "{7, 8, 9, 10, 11}"
      ]
     },
     "execution_count": 68,
     "metadata": {},
     "output_type": "execute_result"
    }
   ],
   "source": [
    "set2.difference(set1)"
   ]
  },
  {
   "cell_type": "code",
   "execution_count": 69,
   "id": "a5ce8652",
   "metadata": {},
   "outputs": [
    {
     "data": {
      "text/plain": [
       "{1, 2, 3, 4, 5, 6}"
      ]
     },
     "execution_count": 69,
     "metadata": {},
     "output_type": "execute_result"
    }
   ],
   "source": [
    "set1"
   ]
  },
  {
   "cell_type": "code",
   "execution_count": 65,
   "id": "1f421506",
   "metadata": {},
   "outputs": [
    {
     "name": "stdout",
     "output_type": "stream",
     "text": [
      "{1, 2, 3}\n"
     ]
    }
   ],
   "source": [
    "set1.difference_update(set2) #update set values\n",
    "print(set1)"
   ]
  },
  {
   "cell_type": "code",
   "execution_count": null,
   "id": "2134c0d6",
   "metadata": {},
   "outputs": [
    {
     "data": {
      "text/plain": [
       "{1, 2, 3, 7, 8, 9, 10, 11}"
      ]
     },
     "execution_count": 70,
     "metadata": {},
     "output_type": "execute_result"
    }
   ],
   "source": [
    "#symmetric difference : print other than common elements\n",
    "set1.symmetric_difference(set2)"
   ]
  },
  {
   "cell_type": "code",
   "execution_count": 74,
   "id": "2b7d1b05",
   "metadata": {},
   "outputs": [
    {
     "name": "stdout",
     "output_type": "stream",
     "text": [
      "True\n",
      "False\n"
     ]
    }
   ],
   "source": [
    "sat1 = {1,2,3}\n",
    "sat2 = {2,3,4,6,1}\n",
    "\n",
    "#is subset\n",
    "print(sat1.issubset(sat2))\n",
    "\n",
    "#is superset\n",
    "print(sat1.issuperset(sat2))"
   ]
  },
  {
   "cell_type": "code",
   "execution_count": 77,
   "id": "e2f0146d",
   "metadata": {},
   "outputs": [
    {
     "name": "stdout",
     "output_type": "stream",
     "text": [
      "[1, 2, 3, 4, 4, 5, 5, 6, 7, 8, 8, 9]\n",
      "{1, 2, 3, 4, 5, 6, 7, 8, 9}\n"
     ]
    }
   ],
   "source": [
    "lst = [1,2,3,4,4,5,5,6,7,8,8,9]\n",
    "print(lst)\n",
    "\n",
    "lst = set(lst)\n",
    "print(lst)"
   ]
  },
  {
   "cell_type": "code",
   "execution_count": 79,
   "id": "2b612f55",
   "metadata": {},
   "outputs": [
    {
     "name": "stdout",
     "output_type": "stream",
     "text": [
      "{\"I'm\", 'office', 'about', 'people', 'python', 'rae', 'at', 'sets', 'learning', 'in', 'when', 'my', 'lunch', 'out', 'time'}\n",
      "15\n"
     ]
    }
   ],
   "source": [
    "### Counting unique words in a text\n",
    "\n",
    "text = \"I'm learning about sets in python in my office at lunch time when people rae out\"\n",
    "words = text.split()\n",
    "\n",
    "#convert list of words to get set of unique words\n",
    "unique_words = set(words)\n",
    "print(unique_words)\n",
    "print(len(unique_words))"
   ]
  },
  {
   "cell_type": "code",
   "execution_count": null,
   "id": "267a45e5",
   "metadata": {},
   "outputs": [],
   "source": []
  }
 ],
 "metadata": {
  "kernelspec": {
   "display_name": "base",
   "language": "python",
   "name": "python3"
  },
  "language_info": {
   "codemirror_mode": {
    "name": "ipython",
    "version": 3
   },
   "file_extension": ".py",
   "mimetype": "text/x-python",
   "name": "python",
   "nbconvert_exporter": "python",
   "pygments_lexer": "ipython3",
   "version": "3.13.5"
  }
 },
 "nbformat": 4,
 "nbformat_minor": 5
}
