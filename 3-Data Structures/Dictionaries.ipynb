{
 "cells": [
  {
   "cell_type": "code",
   "execution_count": 9,
   "id": "94eb3658",
   "metadata": {},
   "outputs": [
    {
     "name": "stdout",
     "output_type": "stream",
     "text": [
      "<class 'dict'>\n"
     ]
    }
   ],
   "source": [
    "#Dictionaries : key/value pairs\n",
    "empty_dict = {}\n",
    "print(type(empty_dict))"
   ]
  },
  {
   "cell_type": "code",
   "execution_count": 10,
   "id": "03c76551",
   "metadata": {},
   "outputs": [
    {
     "data": {
      "text/plain": [
       "{}"
      ]
     },
     "execution_count": 10,
     "metadata": {},
     "output_type": "execute_result"
    }
   ],
   "source": [
    "empty_dict = dict()\n",
    "empty_dict"
   ]
  },
  {
   "cell_type": "code",
   "execution_count": 11,
   "id": "2e1c0510",
   "metadata": {},
   "outputs": [
    {
     "name": "stdout",
     "output_type": "stream",
     "text": [
      "{'Name': 'Anshul', 'Age': 23, 'Class': 6}\n",
      "<class 'dict'>\n"
     ]
    }
   ],
   "source": [
    "student={\"Name\":\"Anshul\", \"Age\":23, \"Class\": 6}\n",
    "print(student)\n",
    "print(type(student))"
   ]
  },
  {
   "cell_type": "code",
   "execution_count": null,
   "id": "73c9e72d",
   "metadata": {},
   "outputs": [
    {
     "name": "stdout",
     "output_type": "stream",
     "text": [
      "{'Name': 6, 'Age': 23}\n"
     ]
    }
   ],
   "source": [
    "#single key is used only, duplicates will be rewrite\n",
    "student1={\"Name\":\"Anshul\", \"Age\":23, \"Name\": 6}\n",
    "print(student1)"
   ]
  },
  {
   "cell_type": "code",
   "execution_count": 15,
   "id": "9d68f9c5",
   "metadata": {},
   "outputs": [
    {
     "name": "stdout",
     "output_type": "stream",
     "text": [
      "{'Name': 'Anshul', 'Age': 23, 'Class': 6}\n",
      "Anshul\n",
      "23\n",
      "6\n"
     ]
    }
   ],
   "source": [
    "#Accessing dictionary elements\n",
    "student={\"Name\":\"Anshul\", \"Age\":23, \"Class\": 6}\n",
    "print(student)\n",
    "print(student['Name'])\n",
    "print(student['Age'])\n",
    "print(student['Class'])"
   ]
  },
  {
   "cell_type": "code",
   "execution_count": 19,
   "id": "e419626c",
   "metadata": {},
   "outputs": [
    {
     "name": "stdout",
     "output_type": "stream",
     "text": [
      "Anshul\n",
      "None\n",
      "Not Available\n"
     ]
    }
   ],
   "source": [
    "#Accessing dictionary elements using get method:\n",
    "print(student.get('Name'))\n",
    "print(student.get('RollNo')) # By default give \"none\" if not prsenet in the dictionary\n",
    "print(student.get('RollNo', \"Not Available\")) # set the default None to \"not available\""
   ]
  },
  {
   "cell_type": "code",
   "execution_count": 21,
   "id": "853b9770",
   "metadata": {},
   "outputs": [
    {
     "name": "stdout",
     "output_type": "stream",
     "text": [
      "{'Name': 'Anshul', 'Age': 23, 'Class': 6}\n"
     ]
    }
   ],
   "source": [
    "#modifying dictionary elements\n",
    "#mutable, add, update, delete\n",
    "print(student)"
   ]
  },
  {
   "cell_type": "code",
   "execution_count": null,
   "id": "3035dde8",
   "metadata": {},
   "outputs": [
    {
     "name": "stdout",
     "output_type": "stream",
     "text": [
      "{'Name': 'Anshul', 'Age': 45, 'Class': 6}\n",
      "{'Name': 'Anshul', 'Age': 45, 'Class': 6, 'Address': 'Aligarh'}\n"
     ]
    }
   ],
   "source": [
    "#Update the value of a key\n",
    "student['Age'] = 45\n",
    "print(student)\n",
    "\n",
    "#Add the new key and value pair\n",
    "student['Address'] = \"Aligarh\"\n",
    "print(student)\n"
   ]
  },
  {
   "cell_type": "code",
   "execution_count": 27,
   "id": "94105fb2",
   "metadata": {},
   "outputs": [
    {
     "name": "stdout",
     "output_type": "stream",
     "text": [
      "{'Name': 'Anshul', 'Age': 45, 'Address': 'Aligarh'}\n"
     ]
    }
   ],
   "source": [
    "#delete the key value pair\n",
    "del student['Class']\n",
    "print(student)"
   ]
  },
  {
   "cell_type": "code",
   "execution_count": 31,
   "id": "04032522",
   "metadata": {},
   "outputs": [
    {
     "name": "stdout",
     "output_type": "stream",
     "text": [
      "dict_keys(['Name', 'Age', 'Address'])\n",
      "dict_values(['Anshul', 45, 'Aligarh'])\n",
      "dict_items([('Name', 'Anshul'), ('Age', 45), ('Address', 'Aligarh')])\n"
     ]
    }
   ],
   "source": [
    "#Dictionary Methods\n",
    "\n",
    "keys=student.keys() #get all keys\n",
    "print(keys)\n",
    "values = student.values() #get all values\n",
    "print(values)\n",
    "items = student.items() #get all key value pairs -> list of tuples\n",
    "print(items)"
   ]
  },
  {
   "cell_type": "code",
   "execution_count": 41,
   "id": "740ebeba",
   "metadata": {},
   "outputs": [
    {
     "name": "stdout",
     "output_type": "stream",
     "text": [
      "{'Name': 'Anshul', 'Age': 45, 'Address': 'Aligarh'}\n",
      "{'Name': 'Anshul', 'Age': 45, 'Address': 'Aligarh'}\n"
     ]
    }
   ],
   "source": [
    "#copy: No actually copy but referencing to the same memory location\n",
    "\n",
    "student_copy = student\n",
    "print(student)\n",
    "print(student_copy)"
   ]
  },
  {
   "cell_type": "code",
   "execution_count": 42,
   "id": "83cd9f36",
   "metadata": {},
   "outputs": [
    {
     "name": "stdout",
     "output_type": "stream",
     "text": [
      "{'Name': 'Ansh', 'Age': 45, 'Address': 'Aligarh'}\n",
      "{'Name': 'Ansh', 'Age': 45, 'Address': 'Aligarh'}\n"
     ]
    }
   ],
   "source": [
    "student['Name'] = 'Ansh' #changes reflect in both student and student_copy\n",
    "print(student)\n",
    "print(student_copy)"
   ]
  },
  {
   "cell_type": "code",
   "execution_count": 43,
   "id": "62896824",
   "metadata": {},
   "outputs": [
    {
     "name": "stdout",
     "output_type": "stream",
     "text": [
      "{'Name': 'Ansh', 'Age': 45, 'Address': 'Aligarh'}\n",
      "{'Name': 'Ansh', 'Age': 45, 'Address': 'Aligarh'}\n"
     ]
    }
   ],
   "source": [
    "#shallow copy\n",
    "student_copy1 = student.copy()\n",
    "print(student)\n",
    "print(student_copy1)"
   ]
  },
  {
   "cell_type": "code",
   "execution_count": 44,
   "id": "9dbca14b",
   "metadata": {},
   "outputs": [
    {
     "name": "stdout",
     "output_type": "stream",
     "text": [
      "{'Name': 'Anshul', 'Age': 45, 'Address': 'Aligarh'}\n",
      "{'Name': 'Ansh', 'Age': 45, 'Address': 'Aligarh'}\n"
     ]
    }
   ],
   "source": [
    "student['Name'] = 'Anshul' #changes reflect in only student not in student_copy1\n",
    "print(student)\n",
    "print(student_copy1)"
   ]
  },
  {
   "cell_type": "code",
   "execution_count": 45,
   "id": "40b70448",
   "metadata": {},
   "outputs": [
    {
     "name": "stdout",
     "output_type": "stream",
     "text": [
      "Name\n",
      "Age\n",
      "Address\n"
     ]
    }
   ],
   "source": [
    "#Iterating over dictionaries : keys \n",
    "for keys in student.keys():\n",
    "    print(keys)\n"
   ]
  },
  {
   "cell_type": "code",
   "execution_count": 46,
   "id": "d93f4dc6",
   "metadata": {},
   "outputs": [
    {
     "name": "stdout",
     "output_type": "stream",
     "text": [
      "Anshul\n",
      "45\n",
      "Aligarh\n"
     ]
    }
   ],
   "source": [
    "#Iterating over dictionaries : values \n",
    "for values in student.values():\n",
    "    print(values)\n"
   ]
  },
  {
   "cell_type": "code",
   "execution_count": 47,
   "id": "90750e6e",
   "metadata": {},
   "outputs": [
    {
     "name": "stdout",
     "output_type": "stream",
     "text": [
      "Name:Anshul\n",
      "Age:45\n",
      "Address:Aligarh\n"
     ]
    }
   ],
   "source": [
    "#Iterating over dictionaries : key & value pairs\n",
    "for key,values in student.items():\n",
    "    print(f\"{key}:{values}\")\n"
   ]
  },
  {
   "cell_type": "code",
   "execution_count": 53,
   "id": "9655b5d1",
   "metadata": {},
   "outputs": [
    {
     "name": "stdout",
     "output_type": "stream",
     "text": [
      "{'student1': {'name': 'Anshul', 'age': 23}, 'student2': {'name': 'Singh', 'age': 'twentythree', 'RollNo': 2}}\n"
     ]
    }
   ],
   "source": [
    "##Nested Dictionary\n",
    "students ={\n",
    "    \"student1\":{\"name\":\"Anshul\",\"age\":23},\n",
    "    \"student2\":{\"name\":\"Singh\",\"age\":\"twentythree\",\"RollNo\":2} \n",
    "}\n",
    "print(students)"
   ]
  },
  {
   "cell_type": "code",
   "execution_count": 57,
   "id": "46d2429c",
   "metadata": {},
   "outputs": [
    {
     "name": "stdout",
     "output_type": "stream",
     "text": [
      "twentythree\n",
      "23\n"
     ]
    }
   ],
   "source": [
    "##Access Nested Dictionary\n",
    "print(students[\"student2\"][\"age\"])\n",
    "print(students[\"student1\"][\"age\"])"
   ]
  },
  {
   "cell_type": "code",
   "execution_count": 59,
   "id": "c3946cc0",
   "metadata": {},
   "outputs": [
    {
     "data": {
      "text/plain": [
       "dict_items([('student1', {'name': 'Anshul', 'age': 23}), ('student2', {'name': 'Singh', 'age': 'twentythree', 'RollNo': 2})])"
      ]
     },
     "execution_count": 59,
     "metadata": {},
     "output_type": "execute_result"
    }
   ],
   "source": [
    "students.items()"
   ]
  },
  {
   "cell_type": "code",
   "execution_count": 60,
   "id": "e4282f64",
   "metadata": {},
   "outputs": [
    {
     "name": "stdout",
     "output_type": "stream",
     "text": [
      "student1:{'name': 'Anshul', 'age': 23}\n",
      "name:Anshul\n",
      "age:23\n",
      "student2:{'name': 'Singh', 'age': 'twentythree', 'RollNo': 2}\n",
      "name:Singh\n",
      "age:twentythree\n",
      "RollNo:2\n"
     ]
    }
   ],
   "source": [
    "## Iterating over nested dictionaries\n",
    "for student_id, student_info in students.items():\n",
    "    print(f\"{student_id}:{student_info}\")\n",
    "    for key, value in student_info.items():\n",
    "        print(f\"{key}:{value}\")"
   ]
  },
  {
   "cell_type": "code",
   "execution_count": 61,
   "id": "34500b1d",
   "metadata": {},
   "outputs": [
    {
     "name": "stdout",
     "output_type": "stream",
     "text": [
      "{0: 0, 1: 1, 2: 4, 3: 9, 4: 16}\n"
     ]
    }
   ],
   "source": [
    "#Dictionary Comprehension\n",
    "squares={x:x**2 for x in range(5)}\n",
    "print(squares)\n"
   ]
  },
  {
   "cell_type": "code",
   "execution_count": 64,
   "id": "5ec7c83a",
   "metadata": {},
   "outputs": [
    {
     "name": "stdout",
     "output_type": "stream",
     "text": [
      "{0: 0, 1: 1, 2: 4, 3: 9, 4: 16}\n"
     ]
    }
   ],
   "source": [
    "#simple for loop\n",
    "\n",
    "square={}\n",
    "for i in range(5):\n",
    "    square[i] = i**2\n",
    "print(square)\n"
   ]
  },
  {
   "cell_type": "code",
   "execution_count": 65,
   "id": "a4e7472c",
   "metadata": {},
   "outputs": [
    {
     "name": "stdout",
     "output_type": "stream",
     "text": [
      "{0: 0, 2: 4, 4: 16, 6: 36, 8: 64}\n"
     ]
    }
   ],
   "source": [
    "#Dictionary Comprehension with conditinal statement\n",
    "events = {x:x**2 for x in range(10) if x%2==0}\n",
    "print(events)"
   ]
  },
  {
   "cell_type": "code",
   "execution_count": 68,
   "id": "47cbad37",
   "metadata": {},
   "outputs": [
    {
     "name": "stdout",
     "output_type": "stream",
     "text": [
      "{1: 2, 2: 3, 3: 2, 4: 4}\n"
     ]
    }
   ],
   "source": [
    "#Practical example:\n",
    "#use dictioanry to cound the frequency of each number in a list\n",
    "\n",
    "lst = [1,1,2,2,2,3,3,4,4,4,4]\n",
    "\n",
    "freq={}\n",
    "# for i in lst:\n",
    "#     count = lst.count(lst[i])\n",
    "#     freq[lst[i]] = count\n",
    "# print(freq)\n",
    "\n",
    "for i in lst:\n",
    "    if i in freq:\n",
    "        freq[i]+=1\n",
    "    else:\n",
    "        freq[i] = 1\n",
    "\n",
    "print(freq)"
   ]
  },
  {
   "cell_type": "code",
   "execution_count": 69,
   "id": "13627169",
   "metadata": {},
   "outputs": [
    {
     "name": "stdout",
     "output_type": "stream",
     "text": [
      "{'a': 1, 'b': 3, 'c': 4}\n"
     ]
    }
   ],
   "source": [
    "#merge Ductionary\n",
    "dict1 = {\"a\":1,\"b\":2}\n",
    "dict2 = {\"b\":3,\"c\":4}\n",
    "\n",
    "merged_dictionary = {**dict1,**dict2}\n",
    "print(merged_dictionary)"
   ]
  },
  {
   "cell_type": "code",
   "execution_count": null,
   "id": "bd1492a2",
   "metadata": {},
   "outputs": [],
   "source": []
  }
 ],
 "metadata": {
  "kernelspec": {
   "display_name": "base",
   "language": "python",
   "name": "python3"
  },
  "language_info": {
   "codemirror_mode": {
    "name": "ipython",
    "version": 3
   },
   "file_extension": ".py",
   "mimetype": "text/x-python",
   "name": "python",
   "nbconvert_exporter": "python",
   "pygments_lexer": "ipython3",
   "version": "3.13.5"
  }
 },
 "nbformat": 4,
 "nbformat_minor": 5
}
