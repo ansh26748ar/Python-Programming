{
 "cells": [
  {
   "cell_type": "code",
   "execution_count": 9,
   "id": "411f3945",
   "metadata": {},
   "outputs": [
    {
     "name": "stdout",
     "output_type": "stream",
     "text": [
      "['Go to market', 'buy graoceries', 'Learn python', 'Make a LinkedIn post']\n"
     ]
    }
   ],
   "source": [
    "lst = [\"Go to market\", \"buy graoceries\",\"Learn python\",\"Make a LinkedIn post\"]\n",
    "print(lst)"
   ]
  },
  {
   "cell_type": "code",
   "execution_count": 10,
   "id": "d13fde13",
   "metadata": {},
   "outputs": [
    {
     "name": "stdout",
     "output_type": "stream",
     "text": [
      "['Go to market', 'buy graoceries', 'Learn python', 'Make a LinkedIn post', 'numpy', 'pandas', 'keras', 'scikit']\n"
     ]
    }
   ],
   "source": [
    "#Adding in the list\n",
    "\n",
    "num = int(input(\"Enter a number of to-do's in the list: \"))\n",
    "for i in range(num):\n",
    "    todo = input(\"Enter:\")\n",
    "    lst.append(todo)\n",
    "\n",
    "print(lst)"
   ]
  },
  {
   "cell_type": "code",
   "execution_count": 13,
   "id": "487603e8",
   "metadata": {},
   "outputs": [
    {
     "name": "stdout",
     "output_type": "stream",
     "text": [
      "['Go to market', 'buy graoceries', 'Learn python', 'Make a LinkedIn post', 'pandas', 'keras', 'scikit']\n"
     ]
    }
   ],
   "source": [
    "#Remove from the list\n",
    "num = int(input(\"Enter a number of to-do's in the list to remove: \"))\n",
    "for i in range(num):\n",
    "    todo = input(\"Enter:\")\n",
    "    lst.remove(todo)\n",
    "\n",
    "print(lst)"
   ]
  },
  {
   "cell_type": "code",
   "execution_count": null,
   "id": "6cc8c084",
   "metadata": {},
   "outputs": [],
   "source": []
  }
 ],
 "metadata": {
  "kernelspec": {
   "display_name": "base",
   "language": "python",
   "name": "python3"
  },
  "language_info": {
   "codemirror_mode": {
    "name": "ipython",
    "version": 3
   },
   "file_extension": ".py",
   "mimetype": "text/x-python",
   "name": "python",
   "nbconvert_exporter": "python",
   "pygments_lexer": "ipython3",
   "version": "3.13.5"
  }
 },
 "nbformat": 4,
 "nbformat_minor": 5
}
