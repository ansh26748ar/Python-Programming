{
 "cells": [
  {
   "cell_type": "markdown",
   "id": "565c66f7",
   "metadata": {},
   "source": [
    "Exception Handling: It is used to handle exceptions that may occur during the execution of a program. It allows the program to continue running even if an error occurs."
   ]
  },
  {
   "cell_type": "markdown",
   "id": "c5961446",
   "metadata": {},
   "source": [
    "*Common error exceptions include:*\n",
    "\n",
    "-valueError: Occurs when a variable or argument is used in a way that is invalid.\n",
    "\n",
    "-zero divisionError: Occurs when a division operation is performed with a divisor of zero.\n",
    "\n",
    "-FileNotFoundError: Occurs when a file or directory is not found.\n",
    "\n",
    "-TypeError: Occurs when an operation or function is applied to an object of an inappropriate type.\n"
   ]
  },
  {
   "cell_type": "code",
   "execution_count": 2,
   "id": "fdb5c38f",
   "metadata": {},
   "outputs": [],
   "source": [
    "a = 10"
   ]
  },
  {
   "cell_type": "code",
   "execution_count": 4,
   "id": "418ba5f1",
   "metadata": {},
   "outputs": [
    {
     "ename": "NameError",
     "evalue": "name 'b' is not defined",
     "output_type": "error",
     "traceback": [
      "\u001b[1;31m---------------------------------------------------------------------------\u001b[0m",
      "\u001b[1;31mNameError\u001b[0m                                 Traceback (most recent call last)",
      "Cell \u001b[1;32mIn[4], line 1\u001b[0m\n\u001b[1;32m----> 1\u001b[0m a \u001b[38;5;241m=\u001b[39m b\n",
      "\u001b[1;31mNameError\u001b[0m: name 'b' is not defined"
     ]
    }
   ],
   "source": [
    "a = b # This will raise a NameError because 'b' is not defined"
   ]
  },
  {
   "cell_type": "code",
   "execution_count": 9,
   "id": "613c8e69",
   "metadata": {},
   "outputs": [
    {
     "name": "stdout",
     "output_type": "stream",
     "text": [
      "The variable 'b' is not defined\n"
     ]
    }
   ],
   "source": [
    "#to handle the exception,try and except blocks can be used\n",
    "try:\n",
    "    a = b\n",
    "except:\n",
    "    print(\"The variable 'b' is not defined\") #manually handling the exception"
   ]
  },
  {
   "cell_type": "code",
   "execution_count": 15,
   "id": "d177eb38",
   "metadata": {},
   "outputs": [
    {
     "name": "stdout",
     "output_type": "stream",
     "text": [
      "exception: name 'b' is not defined\n",
      "<class 'NameError'>\n"
     ]
    }
   ],
   "source": [
    "#to handle the exception,try and except blocks can be used\n",
    "try:\n",
    "    a = b\n",
    "except NameError as ex:     # This will catch the NameError specifically                           \n",
    "    print(\"exception:\", ex)\n",
    "    print(type(ex))"
   ]
  },
  {
   "cell_type": "code",
   "execution_count": 16,
   "id": "21ecd765",
   "metadata": {},
   "outputs": [
    {
     "ename": "ZeroDivisionError",
     "evalue": "division by zero",
     "output_type": "error",
     "traceback": [
      "\u001b[1;31m---------------------------------------------------------------------------\u001b[0m",
      "\u001b[1;31mZeroDivisionError\u001b[0m                         Traceback (most recent call last)",
      "Cell \u001b[1;32mIn[16], line 1\u001b[0m\n\u001b[1;32m----> 1\u001b[0m result \u001b[38;5;241m=\u001b[39m \u001b[38;5;241m10\u001b[39m \u001b[38;5;241m/\u001b[39m \u001b[38;5;241m0\u001b[39m\n",
      "\u001b[1;31mZeroDivisionError\u001b[0m: division by zero"
     ]
    }
   ],
   "source": [
    "result = 10 / 0  # This will raise a ZeroDivisionError"
   ]
  },
  {
   "cell_type": "code",
   "execution_count": 19,
   "id": "780cf4f6",
   "metadata": {},
   "outputs": [
    {
     "name": "stdout",
     "output_type": "stream",
     "text": [
      "exception: division by zero\n",
      "<class 'ZeroDivisionError'>\n",
      "please enter a denominator greater than zero\n"
     ]
    }
   ],
   "source": [
    "try:\n",
    "    result = 10 / 0\n",
    "except ZeroDivisionError as ex:     # This will catch the ZeroDivisionError specifically                           \n",
    "    print(\"exception:\", ex)\n",
    "    print(type(ex))\n",
    "    print(\"please enter a denominator greater than zero\")"
   ]
  },
  {
   "cell_type": "code",
   "execution_count": 24,
   "id": "642ffafc",
   "metadata": {},
   "outputs": [
    {
     "name": "stdout",
     "output_type": "stream",
     "text": [
      "name 'b' is not defined\n"
     ]
    }
   ],
   "source": [
    "try:\n",
    "    result = 10 /2\n",
    "    a=b  #can't be handled bcz it is not defined in except block\n",
    "except ZeroDivisionError as ex:                            \n",
    "    print(\"exception:\", ex)\n",
    "    print(\"please enter a denominator greater than zero\")\n",
    "except Exception as ex1:  #Exception is a base class for all built-in exceptions, can handle all exceptions\n",
    "    print(ex1)\n",
    "\n",
    "#Exception base class is written in the end of any exception handling block\n",
    "#It is used to catch all exceptions that are not caught by the previous except blocks."
   ]
  },
  {
   "cell_type": "code",
   "execution_count": 28,
   "id": "e1f6b32f",
   "metadata": {},
   "outputs": [
    {
     "name": "stdout",
     "output_type": "stream",
     "text": [
      "exception: division by zero\n",
      "please enter a denominator greater than zero\n"
     ]
    }
   ],
   "source": [
    "try:\n",
    "    num = int(input(\"Enter a number: \"))\n",
    "    result = 10 /num\n",
    "\n",
    "except ZeroDivisionError as ex:                            \n",
    "    print(\"exception:\", ex)\n",
    "    print(\"please enter a denominator greater than zero\")\n"
   ]
  },
  {
   "cell_type": "code",
   "execution_count": 27,
   "id": "7f5fed1d",
   "metadata": {},
   "outputs": [
    {
     "name": "stdout",
     "output_type": "stream",
     "text": [
      "division by zero\n"
     ]
    }
   ],
   "source": [
    "try:\n",
    "    num = int(input(\"Enter a number: \"))\n",
    "    result = 10 /num\n",
    "\n",
    "except Exception as ex1:  #Exception is a base class for all built-in exceptions, can handle all exceptions\n",
    "    print(ex1)"
   ]
  },
  {
   "cell_type": "code",
   "execution_count": null,
   "id": "ec2dd551",
   "metadata": {},
   "outputs": [
    {
     "name": "stdout",
     "output_type": "stream",
     "text": [
      "The result is: 5.0\n"
     ]
    }
   ],
   "source": [
    "## try,except,else blocks\n",
    "try:\n",
    "    num = int(input(\"Enter a number: \"))\n",
    "    result = 10 /num\n",
    "\n",
    "except Exception as ex1:  \n",
    "    print(ex1)\n",
    "else:\n",
    "    print(\"The result is:\", result) # The else block will execute if no exceptions are raised in the try block"
   ]
  },
  {
   "cell_type": "code",
   "execution_count": 59,
   "id": "33290e20",
   "metadata": {},
   "outputs": [
    {
     "name": "stdout",
     "output_type": "stream",
     "text": [
      "The result is: 3.3333333333333335\n",
      "This block will always executes,\n",
      "regardless of whether an exception occurred or not.\n"
     ]
    }
   ],
   "source": [
    "## try,except,else blocks\n",
    "try:\n",
    "    num = int(input(\"Enter a number: \"))\n",
    "    result = 10 /num\n",
    "\n",
    "except Exception as ex1:  \n",
    "    print(ex1)\n",
    "else:\n",
    "    print(\"The result is:\", result) # The else block will execute if no exceptions are raised in the try block\n",
    "finally:\n",
    "    print(\"This block will always executes,\\nregardless of whether an exception occurred or not.\")"
   ]
  },
  {
   "cell_type": "code",
   "execution_count": 60,
   "id": "c7aa81ff",
   "metadata": {},
   "outputs": [
    {
     "name": "stdout",
     "output_type": "stream",
     "text": [
      "File not found\n"
     ]
    },
    {
     "ename": "TypeError",
     "evalue": "'bool' object is not callable",
     "output_type": "error",
     "traceback": [
      "\u001b[1;31m---------------------------------------------------------------------------\u001b[0m",
      "\u001b[1;31mTypeError\u001b[0m                                 Traceback (most recent call last)",
      "Cell \u001b[1;32mIn[60], line 10\u001b[0m\n\u001b[0;32m      7\u001b[0m     \u001b[38;5;28mprint\u001b[39m(\u001b[38;5;124m\"\u001b[39m\u001b[38;5;124mFile not found\u001b[39m\u001b[38;5;124m\"\u001b[39m)\n\u001b[0;32m      9\u001b[0m \u001b[38;5;28;01mfinally\u001b[39;00m:\n\u001b[1;32m---> 10\u001b[0m     \u001b[38;5;28;01mif\u001b[39;00m \u001b[38;5;124m'\u001b[39m\u001b[38;5;124mfile\u001b[39m\u001b[38;5;124m'\u001b[39m \u001b[38;5;129;01min\u001b[39;00m \u001b[38;5;28mlocals\u001b[39m() \u001b[38;5;129;01mand\u001b[39;00m \u001b[38;5;129;01mnot\u001b[39;00m file\u001b[38;5;241m.\u001b[39mclosed():\n\u001b[0;32m     11\u001b[0m         file\u001b[38;5;241m.\u001b[39mclose()\n\u001b[0;32m     12\u001b[0m         \u001b[38;5;28mprint\u001b[39m(\u001b[38;5;124m\"\u001b[39m\u001b[38;5;124mFile closed successfully.\u001b[39m\u001b[38;5;124m\"\u001b[39m)\n",
      "\u001b[1;31mTypeError\u001b[0m: 'bool' object is not callable"
     ]
    }
   ],
   "source": [
    "### File handling and exception handling\n",
    "try:\n",
    "    file = open('example1.txt','r')\n",
    "    content = file.read()\n",
    "    print(content)\n",
    "except FileNotFoundError:\n",
    "    print(\"File not found\")\n",
    "\n",
    "finally:\n",
    "    if 'file' in locals() and not file.closed():\n",
    "        file.close()\n",
    "        print(\"File closed successfully.\")\n",
    "    "
   ]
  },
  {
   "cell_type": "code",
   "execution_count": null,
   "id": "ca2409b5",
   "metadata": {},
   "outputs": [
    {
     "name": "stdout",
     "output_type": "stream",
     "text": [
      "name 'b' is not defined\n",
      "File closed successfully.\n"
     ]
    }
   ],
   "source": [
    "### File handling and exception handling\n",
    "try:\n",
    "    file = open('example.txt','r')\n",
    "    content = file.read()\n",
    "    a = b #handled by exception block\n",
    "    print(content)\n",
    "\n",
    "except FileNotFoundError:\n",
    "    print(\"File not found\")\n",
    "\n",
    "except Exception as ex:\n",
    "    print(ex)\n",
    "\n",
    "finally:\n",
    "    if 'file' in locals() or not file.closed(): # Check if 'file' exists and is not closed\n",
    "        file.close()\n",
    "        print(\"File closed successfully.\")\n",
    "    "
   ]
  },
  {
   "cell_type": "code",
   "execution_count": null,
   "id": "9f557fab",
   "metadata": {},
   "outputs": [],
   "source": []
  }
 ],
 "metadata": {
  "kernelspec": {
   "display_name": "base",
   "language": "python",
   "name": "python3"
  },
  "language_info": {
   "codemirror_mode": {
    "name": "ipython",
    "version": 3
   },
   "file_extension": ".py",
   "mimetype": "text/x-python",
   "name": "python",
   "nbconvert_exporter": "python",
   "pygments_lexer": "ipython3",
   "version": "3.13.5"
  }
 },
 "nbformat": 4,
 "nbformat_minor": 5
}
